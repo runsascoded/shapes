{
 "cells": [
  {
   "cell_type": "markdown",
   "id": "9d8348d6",
   "metadata": {},
   "source": [
    "## Unit circle vs. $(c,0)$ / $r$:\n",
    "$$\n",
    "x^2 + y^2 = 1 \\\\\n",
    "(x - c)^2 + y^2 = r^2 = x^2 - 2cx + c^2 + y^2 \\\\\n",
    "x = \\frac{1}{2c}\\left(1 - r^2 + c^2\\right) \\\\\n",
    "y = ±\\sqrt{1 - x^2} \\\\\n",
    "$$"
   ]
  },
  {
   "cell_type": "markdown",
   "id": "9e6ec64b",
   "metadata": {},
   "source": [
    "## Unit circle vs. $(c_x,c_y)$ / $r$:\n",
    "$$\n",
    "x^2 + y^2 = 1 \\\\\n",
    "(x-c_x)^2 + (y-c_y)^2 = r^2 \\\\\n",
    "1 - 2xc_x + c_x^2 - 2c_y\\sqrt{1-x^2} + c_y^2 = r^2\n",
    "$$"
   ]
  },
  {
   "cell_type": "markdown",
   "id": "8aa96130",
   "metadata": {},
   "source": [
    "$$\n",
    "c_xx + c_yy = \\frac{1}{2}\\left(1 + c_x^2 + c_y^2 - r^2\\right) \\\\\n",
    "z = \\frac{1}{2}\\left(1 + c_x^2 + c_y^2 - r^2\\right) \\\\\n",
    "c_xx + c_yy = z \\\\\n",
    "$$"
   ]
  },
  {
   "cell_type": "markdown",
   "id": "2d8fc052",
   "metadata": {},
   "source": [
    "$$\n",
    "u_y = -\\frac{c_y}{c_x} \\\\\n",
    "v_y = \\frac{z}{c_x} \\\\\n",
    "x = u_yy + v_y \\\\\n",
    "u_x = -\\frac{c_x}{c_y} \\\\\n",
    "v_x = \\frac{z}{c_y} \\\\\n",
    "y = u_xx + v_x \\\\\n",
    "$$"
   ]
  },
  {
   "cell_type": "markdown",
   "id": "fb55c908",
   "metadata": {},
   "source": [
    "$$\n",
    "x^2 + (u_xx + v_x)^2 = 1 \\\\\n",
    "(1+u_x^2)x^2 + 2u_xv_xx + v_x^2 - 1 = 0 \\\\\n",
    "(1+u_y^2)y^2 + 2u_yv_yy + v_y^2 - 1 = 0 \\\\\n",
    "$$"
   ]
  },
  {
   "cell_type": "markdown",
   "id": "70c50ddf",
   "metadata": {},
   "source": [
    "$$\n",
    "a_x = 1 + u_x^2 \\\\\n",
    "b_x = u_xv_x \\\\\n",
    "c_x = v_x^2 - 1 \\\\\n",
    "f_x = -\\frac{b_x}{a_x} \\\\\n",
    "x = f_x ± \\sqrt{f_x^2 - \\frac{c_x}{a_x}} \\\\\n",
    "$$"
   ]
  },
  {
   "cell_type": "markdown",
   "id": "6d52570a",
   "metadata": {},
   "source": [
    "$$\n",
    "C = c_x^2 + c_y^2 \\\\\n",
    "D = C - r^2 + 1 \\\\\n",
    "D - 2xc_x = 2c_y\\sqrt{1-x^2} \\\\\n",
    "D - 2yc_y = 2c_x\\sqrt{1-y^2}\n",
    "$$"
   ]
  },
  {
   "cell_type": "markdown",
   "id": "be22394d",
   "metadata": {},
   "source": [
    "$$\n",
    "4c_x^2x^2 - 4c_xDx + D^2 = 4c_y^2(1-x^2)\n",
    "$$"
   ]
  },
  {
   "cell_type": "markdown",
   "id": "e1d536b5",
   "metadata": {},
   "source": [
    "$$\n",
    "4Cx^2 - 4c_xDx + D^2 - 4c_y^2 = 0\n",
    "$$"
   ]
  },
  {
   "cell_type": "markdown",
   "id": "149d5344",
   "metadata": {},
   "source": [
    "$$\n",
    "a = 4C \\\\\n",
    "b = -2c_xD \\\\\n",
    "c = D^2 - 4c_y^2 \\\\\n",
    "f = -\\frac{b}{a} \\\\\n",
    "x = f ± \\sqrt{f^2 - \\frac{c}{a}}\n",
    "$$"
   ]
  },
  {
   "cell_type": "markdown",
   "id": "fa6796e8",
   "metadata": {},
   "source": [
    "$$\n",
    "x = \\frac{c_xD ± \\sqrt{c_x^2D^2 -CD^2 + 4Cc_y^2}}{2C}\n",
    "$$"
   ]
  },
  {
   "cell_type": "markdown",
   "id": "543849a1",
   "metadata": {},
   "source": [
    "$$\n",
    "x = \\frac{c_xD ± c_y\\sqrt{4C - D^2}}{2C}\n",
    "$$"
   ]
  },
  {
   "cell_type": "markdown",
   "id": "12652796",
   "metadata": {},
   "source": [
    "$$\n",
    "x = \\frac{c_xD ± c_y\\sqrt{4C - (C + (1-r^2))^2}}{2C}\n",
    "$$"
   ]
  },
  {
   "cell_type": "markdown",
   "id": "3addeb04",
   "metadata": {},
   "source": [
    "$$\n",
    "x = \\frac{c_xD ± c_y\\sqrt{4C - C^2 - 2C(1-r^2) - (1-r^2)^2}}{2C}\n",
    "$$"
   ]
  },
  {
   "cell_type": "markdown",
   "id": "583f5c7f",
   "metadata": {},
   "source": [
    "$$\n",
    "x = \\frac{c_xD ± c_y\\sqrt{-C^2 + 2C + 2Cr^2 - 1 + 2r^2 - r^4}}{2C}\n",
    "$$"
   ]
  },
  {
   "cell_type": "markdown",
   "id": "66b85788",
   "metadata": {},
   "source": [
    "$$\n",
    "x = \\frac{c_xD ± c_y\\sqrt{4r^2 - (1+r^2 - C)^2}}{2C}\n",
    "$$"
   ]
  },
  {
   "cell_type": "markdown",
   "id": "ffcac924",
   "metadata": {},
   "source": [
    "$$\n",
    "y = ±\\sqrt{1-x^2} \\\\\n",
    "y = ±\\sqrt{r^2 - (x-c_x)^2} + c_y\n",
    "$$"
   ]
  },
  {
   "cell_type": "markdown",
   "id": "578db07a",
   "metadata": {},
   "source": [
    "## 2 Circles\n",
    "$$\n",
    "(x - x_0)^2 + (y - y_0)^2 = r_0^2 \\\\\n",
    "(x - x_1)^2 + (y - y_1)^2 = r_1^2\n",
    "$$"
   ]
  },
  {
   "cell_type": "markdown",
   "id": "45127ebd",
   "metadata": {},
   "source": [
    "$$\n",
    "x^2 + y^2 = r_0^2 + 2xx_0 + 2yy_0 - x_0^2 - y_0^2 = r_1^2 + 2xx_1 + 2yy_1 - x_1^2 - y_1^2\n",
    "$$"
   ]
  },
  {
   "cell_type": "markdown",
   "id": "80a7cde2",
   "metadata": {},
   "source": [
    "$$\n",
    "x(x_1 - x_0) + y(y_1 - y_0) = \\frac{1}{2}\\left(r_0^2 - r_1^2 + x_1^2 - x_0^2 + y_1^2 - y_0^2\\right)\n",
    "$$"
   ]
  },
  {
   "cell_type": "markdown",
   "id": "832273e4",
   "metadata": {},
   "source": [
    "$$\n",
    "d_y = y_1 - y_0 \\\\\n",
    "d_x = x_1 - x_0 \\\\\n",
    "z = \\frac{1}{2}\\left(r_0^2 - r_1^2 + x_1^2 - x_0^2 + y_1^2 - y_0^2\\right) \\\\\n",
    "d_xx + d_yy = z \\\\\n",
    "u_y = -\\frac{d_y}{d_x} \\\\\n",
    "v_y = \\frac{z}{d_x} \\\\\n",
    "x = u_yy + v_y \\\\\n",
    "u_x = -\\frac{d_x}{d_y} \\\\\n",
    "v_x = \\frac{z}{d_y} \\\\\n",
    "y = u_xx + v_x \\\\\n",
    "$$"
   ]
  },
  {
   "cell_type": "markdown",
   "id": "5d780fa0",
   "metadata": {},
   "source": [
    "$$\n",
    "(u_yy+v_y - x_0)^2 + (y - y_0)^2 = r_0^2\n",
    "$$"
   ]
  },
  {
   "cell_type": "markdown",
   "id": "1452511c",
   "metadata": {},
   "source": [
    "$$\n",
    "y^2(u_y^2 + 1) + y(2u_yv_y - 2u_yx_0 - 2y_0) + (v_y-x_0)^2 + y_0^2 - r_0^2\n",
    "$$"
   ]
  },
  {
   "cell_type": "markdown",
   "id": "69142a43",
   "metadata": {},
   "source": [
    "$$\n",
    "a_y = u_y^2 + 1 \\\\\n",
    "b_y = u_yv_y - u_yx_0 - y_0 \\\\\n",
    "c_y = (v_y-x_0)^2 + y_0^2 - r_0^2 \\\\\n",
    "f_y = -\\frac{b_y}{a_y} \\\\\n",
    "y = f_y ± \\sqrt{f_y^2 - \\frac{c_y}{a_y}}\n",
    "$$"
   ]
  },
  {
   "cell_type": "markdown",
   "id": "58ceefb1",
   "metadata": {},
   "source": [
    "$$\n",
    "x_2 = \\frac{1}{r_0}(x - x_0) \\\\\n",
    "y_2 = \\frac{1}{r_0}(y - y_0) \\\\\n",
    "x_2^2 + y_2^2 = 1\n",
    "$$"
   ]
  },
  {
   "cell_type": "markdown",
   "id": "e8a9dc75",
   "metadata": {},
   "source": [
    "## Another circle substitution\n",
    "$$\n",
    "(x - x_0)^2 + (y - y_0)^2 = r_0^2 \\\\\n",
    "(x - x_1)^2 + (y - y_1)^2 = r_1^2 \\\\\n",
    "x = r_0x_2 + x_0 \\\\\n",
    "y = r_0y_2 + y_0 \\\\\n",
    "x_2 = \\frac{x - x_0}{r_0} \\\\\n",
    "y_2 = \\frac{y - y_0}{r_0} \\\\\n",
    "x_2^2 + y_2^2 = 1 \\\\\n",
    "(r_0x_2 + x_0 - x_1)^2 + (r_0y_2 + y_0 - y_1)^2 = r_1^2 \\\\\n",
    "d_x = x_1 - x_0 \\\\\n",
    "d_y = y_1 - y_0 \\\\\n",
    "(r_0x_2 - d_x)^2 + (r_0y_2 - d_y)^2 = r_1^2 \\\\\n",
    "$$"
   ]
  },
  {
   "cell_type": "markdown",
   "id": "6ea6d46f",
   "metadata": {},
   "source": [
    "$$\n",
    "r_0^2 -2d_xr_0x_2 + d_x^2 - 2d_yr_0y_2 + d_y^2 = r_1^2\n",
    "$$"
   ]
  },
  {
   "cell_type": "markdown",
   "id": "39183a99",
   "metadata": {},
   "source": [
    "$$\n",
    "w = \\frac{1}{2r_0}\\left(r_0^2 - r_1^2 + d_x^2 + d_y^2\\right) = d_xx_2 + d_yy_2 \\\\\n",
    "u_y = -\\frac{d_x}{d_y} \\\\\n",
    "v_y = \\frac{w}{d_y} \\\\\n",
    "y_2 = u_yx_2 + v_y \\\\\n",
    "u_x = -\\frac{d_y}{d_x} \\\\\n",
    "v_x = \\frac{w}{d_x} \\\\\n",
    "x_2 = u_xy_2 + v_x\n",
    "$$"
   ]
  },
  {
   "cell_type": "markdown",
   "id": "6e98d54c",
   "metadata": {},
   "source": [
    "$$\n",
    "y_2^2 + x_2^2 - 1 = y_2^2(u_x^2 + 1) + 2u_xv_xy_2 + v_x^2 - 1 = 0\n",
    "$$"
   ]
  },
  {
   "cell_type": "markdown",
   "id": "2120c841",
   "metadata": {},
   "source": [
    "$$\n",
    "a = u_x^2 + 1 \\\\\n",
    "b = u_xv_x \\\\\n",
    "c = v_x^2 - 1 \\\\\n",
    "f = \\frac{u_xv_x}{u_x^2 + 1} \\\\\n",
    "y_2 = f ± \\sqrt{f^2 + 1 - v_x^2}\n",
    "$$"
   ]
  },
  {
   "cell_type": "markdown",
   "id": "ea26b74b",
   "metadata": {},
   "source": [
    "## Ellipses\n",
    "$$\n",
    "A_0x^2 + B_0xy + C_0y^2 + D_0x + E_0y + F_0 = 0 \\\\\n",
    "A_1x^2 + B_1xy + C_1y^2 + D_1x + E_1y + F_1 = 0\n",
    "$$"
   ]
  },
  {
   "cell_type": "markdown",
   "id": "5424d796",
   "metadata": {},
   "source": [
    "$$\n",
    "x = u_xx_0 + v_x \\\\\n",
    "y = u_yy_0 + v_y \\\\\n",
    "A_0(u_xx_0 + v_x)^2 + B_0(u_xx_0 + v_x)(u_yy_0 + v_y) + C_0(u_yy_0 + v_y)^2 + D_0(u_xx_0 + v_x) + E_0(u_yy_0 + v_y) + F_0 = 0\n",
    "$$"
   ]
  },
  {
   "cell_type": "markdown",
   "id": "d5776b3f",
   "metadata": {},
   "source": [
    "$$\n",
    "A_0u_x^2x_0^2 + B_0u_xu_yx_0y_0 + C_0u_y^2y_0^2 + x_0(2A_0u_xv_x + B_0u_xv_y + D_0u_x) + y_0(B_0u_yv_x + 2C_0u_yv_y + E_0u_y) + (A_0v_x^2 + B_0v_xv_y + C_0v_y^2 + D_0v_x + E_0v_y + F_0) = 0\n",
    "$$"
   ]
  },
  {
   "cell_type": "markdown",
   "id": "136d2ae7",
   "metadata": {},
   "source": [
    "$$\n",
    "A_2 = A_0u_x^2 \\\\\n",
    "B_2 = B_0u_xu_y \\\\\n",
    "C_2 = C_0u_y^2 \\\\\n",
    "D_2 = 2A_0u_xv_x + B_0u_xv_y + D_0u_x \\\\\n",
    "E_2 = 2C_0u_yv_y + B_0u_yv_x + E_0u_y \\\\\n",
    "F_2 = A_0v_x^2 + B_0v_xv_y + C_0v_y^2 + D_0v_x + E_0v_y + F_0 \\\\\n",
    "A_2x^2 + B_2xy + C_2y^2 + D_2x + E_2y + F_2 = 0\n",
    "$$"
   ]
  },
  {
   "cell_type": "markdown",
   "id": "fc9b435a",
   "metadata": {},
   "source": [
    "### Unit circle vs. unaligned ellipse (ABCDEF)\n",
    "$$\n",
    "x^2 + y^2 = 1 \\\\\n",
    "Ax^2 + Bxy + Cy^2 + Dx + Ey + F = 0 \\\\\n",
    "A(1-y^2) + (By+D)\\sqrt{1-y^2} + Cy^2 + Ey + F = 0 \\\\\n",
    "(A - C - 1)y^2 - Ey - F = (By+D)\\sqrt{1-y^2} \\\\\n",
    "\\left(A-C-1\\right)^2y^4 - 2E(A-C-1)y^3 - \\left(2F(A-C-1) - E^2\\right)y^2 - 2EFy + F^2 = -B^2y^4 - 2BDy^3 + (B^2 - D^2)y^2 + 2BDy + D^2 \\\\\n",
    "\\left((A-C-1)^2 + B^2\\right)y^4 + (2BD - 2E(A-C-1))y^3 + (D^2 - B^2 - E^2)y^2 - 2(EF + BD)y + F^2 - D^2 = 0 \\\\\n",
    "c_4 = \\left((A-C-1)^2 + B^2\\right) \\\\\n",
    "c_3 = 2(BD - E(A-C-1)) \\\\\n",
    "c_2 = D^2 - B^2 - E^2 \\\\\n",
    "c_1 = -2(EF + BD) \\\\\n",
    "c_0 = F^2 - D^2 \\\\\n",
    "c_4y^4 + c_3y^3 + c_2y^2 + c_1y + c_0 = 0 \\\\\n",
    "$$"
   ]
  },
  {
   "cell_type": "markdown",
   "id": "faece5b7",
   "metadata": {},
   "source": [
    "### Unit circle vs. aligned ellipse (ACDEF)\n",
    "$$\n",
    "x^2 + y^2 = 1 \\\\\n",
    "Ax^2 + Cy^2 + Dx + Ey + F = 0 \\\\\n",
    "x = -\\frac{1}{D}\\left((C-A)y^2 + Ey + A + F \\right) \\\\\n",
    "c_2 = \\frac{A-C}{D} \\\\\n",
    "c_1 = -\\frac{E}{D} \\\\\n",
    "c_0 = -\\frac{A + F}{D} \\\\\n",
    "x = c_2y^2 + c_1y + c_0 \\\\\n",
    "c_2^2y^4 + 2c_1c_2y^3 + (2c_0c_2 + c_1^2 + 1)y^2 + 2c_0c_1y + c_0^2 - 1 = 0 \\\\\n",
    "a_4 = c_2^2 \\\\\n",
    "a_3 = 2c_1c_2 \\\\\n",
    "a_2 = 2c_0c_2 + c_1^2 + 1 \\\\\n",
    "a_1 = 2c_0c_1 \\\\\n",
    "a_0 = c_0^2 - 1 \\\\\n",
    "a_4y^4 + a_3y^3 + a_2y^2 + a_1y + a_0 = 0 \\\\\n",
    "$$"
   ]
  },
  {
   "cell_type": "markdown",
   "id": "501c666e",
   "metadata": {},
   "source": [
    "### Unit circle vs. aligned ellipse (CDEF)\n",
    "$$\n",
    "x^2 + y^2 = 1 \\\\\n",
    "x^2 + Cy^2 + Dx + Ey + F = 0 \\\\\n",
    "$$"
   ]
  },
  {
   "cell_type": "markdown",
   "id": "aefffe88",
   "metadata": {},
   "source": [
    "If $D ≠ 0$:\n",
    "$$\n",
    "x = -\\frac{1}{D}\\left((C-1)y^2 + Ey + 1 + F \\right) \\\\\n",
    "c_2 = \\frac{1-C}{D} \\\\\n",
    "c_1 = -\\frac{E}{D} \\\\\n",
    "c_0 = -\\frac{1 + F}{D} \\\\\n",
    "x = c_2y^2 + c_1y + c_0 \\\\\n",
    "c_2^2y^4 + 2c_1c_2y^3 + (2c_0c_2 + c_1^2 + 1)y^2 + 2c_0c_1y + c_0^2 - 1 = 0 \\\\\n",
    "a_4 = c_2^2 \\\\\n",
    "a_3 = 2c_1c_2 \\\\\n",
    "a_2 = 2c_0c_2 + c_1^2 + 1 \\\\\n",
    "a_1 = 2c_0c_1 \\\\\n",
    "a_0 = c_0^2 - 1 \\\\\n",
    "a_4y^4 + a_3y^3 + a_2y^2 + a_1y + a_0 = 0 \\\\\n",
    "$$"
   ]
  },
  {
   "cell_type": "markdown",
   "id": "e5f296c1",
   "metadata": {},
   "source": [
    "If $D = 0$:\n",
    "$$\n",
    "(1-C)x^2 + Dx + Ey + F + C = 0 \\\\\n",
    "y = \\frac{1}{E}\\left((C-1)x^2 - Dx - C - F\\right) \\\\\n",
    "c_2 = \\frac{C-1}{E} \\\\\n",
    "c_1 = -\\frac{D}{E} \\\\\n",
    "c_0 = -\\frac{C + F}{E} \\\\\n",
    "y = c_2x^2 + c_1x + c_0 \\\\\n",
    "$$"
   ]
  },
  {
   "cell_type": "markdown",
   "id": "6a204218",
   "metadata": {},
   "source": [
    "### Unit circle vs. aligned ellipse (CDEF), by $\\theta$\n",
    "$$\n",
    "\\cos^2\\theta + \\sin^2\\theta = 1 \\\\\n",
    "\\cos^2\\theta + C\\sin^2\\theta + D\\cos\\theta + E\\sin\\theta + F = 0 \\\\\n",
    "1 + (C-1)\\sin^2\\theta + D\\cos\\theta + E\\sin\\theta + F = 0 \\\\\n",
    "(C-1)(1-c^2) + Dc + F + 1 = -Es \\\\\n",
    "(1-C)c^2 + Dc + C + F = -Es \\\\\n",
    "u_c = 1-C \\\\\n",
    "v_c = C + F \\\\\n",
    "u_cc^2 + Dc + v_c = -Es \\\\\n",
    "u_c^2c^4 + 2u_cDc^3 + (2u_cv_c + D^2 + E^2)c^2 + 2Dv_cc + v_c^2 - E^2 = 0 \\\\\n",
    "$$"
   ]
  },
  {
   "cell_type": "markdown",
   "id": "c9107a40",
   "metadata": {},
   "source": [
    "$$\n",
    "(C-1)s^2 + Es + F + 1 = -Dc \\\\\n",
    "u_s = C-1 \\\\\n",
    "v_s = F+1 \\\\\n",
    "u_ss^2 + Es + v_s = -Dc \\\\\n",
    "u_s^2s^4 + 2u_sEs^3 + (2u_sv_s + D^2 + E^2)s^2 + 2Ev_ss + v_s^2 - D^2 = 0 \\\\\n",
    "$$"
   ]
  },
  {
   "cell_type": "markdown",
   "id": "a3f9c09f",
   "metadata": {},
   "source": [
    "### Unit circle vs. aligned ellipse (XYAB)\n",
    "$$\n",
    "x^2 + y^2 = 1 \\\\\n",
    "\\left(\\frac{x - c_x}{r_x}\\right)^2 + \\left(\\frac{y - c_y}{r_y}\\right)^2 = 1 \\\\\n",
    "\\frac{1}{r_x^2}x^2 + \\frac{1}{r_y^2}y^2 - 2\\frac{c_x}{r_x}x - 2\\frac{c_y}{r_y}y + \\frac{c_x^2}{r_x^2} + \\frac{c_y^2}{r_y^2} - 1 = 0 \\\\\n",
    "A = \\frac{1}{r_x^2} \\\\\n",
    "C = \\frac{1}{r_y^2} \\\\\n",
    "D = -2\\frac{c_x}{r_x} \\\\\n",
    "E = -2\\frac{c_y}{r_y} \\\\\n",
    "F = \\frac{c_x^2}{r_x^2} + \\frac{c_y^2}{r_y^2} - 1 \\\\\n",
    "$$"
   ]
  },
  {
   "cell_type": "markdown",
   "id": "4ed13b25",
   "metadata": {},
   "source": [
    "### XYRRT → ABCDEF\n",
    "$$\n",
    "c = \\cos(\\theta) \\\\\n",
    "s = \\sin(\\theta) \\\\\n",
    "x_1 = cx_0 + sy_0 \\\\\n",
    "y_1 = cy_0 - sx_0 \\\\\n",
    "\\left(\\frac{x_1 - c_x}{r_x}\\right)^2 + \\left(\\frac{y_1 - c_y}{r_y}\\right)^2 = 1 \\\\\n",
    "$$"
   ]
  },
  {
   "cell_type": "markdown",
   "id": "27884486",
   "metadata": {},
   "source": [
    "### XYRR → CDEF\n",
    "$$\n",
    "\\left(\\frac{x - c_x}{r_x}\\right)^2 + \\left(\\frac{y - c_y}{r_y}\\right)^2 = 1 \\\\\n",
    "\\frac{1}{r_x^2}x^2 + \\frac{1}{r_y^2}y^2 - 2\\frac{c_x}{r_x^2}x - 2\\frac{c_y}{r_y^2}y + \\frac{c_x^2}{r_x^2} + \\frac{c_y^2}{r_y^2} - 1 = 0 \\\\\n",
    "x^2 + \\frac{r_x^2}{r_y^2}y^2 - 2c_xx - 2\\frac{c_yr_x^2}{r_y^2}y + c_x^2 + \\frac{c_y^2r_x^2}{r_y^2} - r_x^2 = 0 \\\\\n",
    "C = \\frac{r_x^2}{r_y^2} \\\\\n",
    "D = -2c_x \\\\\n",
    "E = -2\\frac{c_yr_x^2}{r_y^2} \\\\\n",
    "F = c_x^2 + \\frac{c_y^2r_x^2}{r_y^2} - r_x^2 \\\\\n",
    "$$"
   ]
  },
  {
   "cell_type": "markdown",
   "id": "15613be9",
   "metadata": {},
   "source": [
    "#### Example\n",
    "$$\n",
    "x^2 + y^2 = 1 \\\\\n",
    "\\left(\\frac{x-1}{2}\\right)^2 + \\left(\\frac{y-1}{3}\\right)^2 = 1 \\\\\n",
    "\\frac{1}{4}x^2 + \\frac{1}{9}y^2 - \\frac{1}{2}x - \\frac{2}{9}y - \\frac{23}{36} = 0 \\\\\n",
    "$$"
   ]
  },
  {
   "cell_type": "markdown",
   "id": "af7186c2",
   "metadata": {},
   "source": [
    "## Distance between aligned ellipses (WIP)\n",
    "$$\n",
    "x_0^2 + \\frac{y_0^2}{r^2} = 1 \\\\\n",
    "\\left(\\frac{x_1 - c_x}{r_{1,x}}\\right)^2 + \\left(\\frac{y_1 - c_y}{r_{1,y}}\\right)^2 = 1 \\\\\n",
    "d^2 = (x_1-x_0)^2 + (y_1-y_0)^2 = x_0^2 - 2x_0x_1 + x_1^2 + y_0^2 - 2y_0y_1 + y_1^2 \\\\\n",
    "y_0^2 = r^2(1 - x_0^2) \\\\\n",
    "d^2 = x_0^2(1 - r^2) + x_1^2 + y_1^2 - 2x_0x_1 - 2ry_1\\sqrt{1 - x_0^2} + r^2 \\\\\n",
    "$$\n"
   ]
  },
  {
   "cell_type": "markdown",
   "id": "c9ea44bd",
   "metadata": {},
   "source": [
    "$$\n",
    "y_1 = c_y ± r_{1,y}\\sqrt{1 - \\left(\\frac{x_1 - c_x}{r_{1,x}}\\right)^2} \\\\\n",
    "y_0' = -r^2\\frac{x_0}{y_0} \\\\\n",
    "y_1' = -\\frac{r_y^2}{r_x^2}\\frac{x_1 - c_x}{y_1 - c_y} \\\\\n",
    "y_0(x_1 - x_0) = r^2x_0(y_1 - y_0) \\\\\n",
    "r_x^2(y_1 - c_y)(x_1 - x_0) = r_y^2(x_1 - c_x)(y_1 - y_0) \\\\\n",
    "r_x^2r^2x_0(y_1 - c_y) = r_y^2y_0(x_1 - c_x) \\\\\n",
    "y_0' = y_1' \\\\\n",
    "$$"
   ]
  },
  {
   "cell_type": "markdown",
   "id": "56f1639f",
   "metadata": {},
   "source": [
    "$$\n",
    "(r^2 - 1)x_0y_0 = r^2x_0y_1 - y_0x_1 \\\\\n",
    "r_x^2x_1(y_1 - c_y) - r_y^2y_1(x_1 - c_x) = r_x^2x_0(y_1 - c_y) - r_y^2y_0(x_1 - c_x) \\\\\n",
    "r_x^2x_1(y_1 - c_y) - r_y^2y_1(x_1 - c_x) + r_x^2x_0c_y - r_y^2y_0c_x = r_y^2y_0x_1 - r_x^2x_0y_1 \\\\\n",
    "$$"
   ]
  },
  {
   "cell_type": "markdown",
   "id": "e7d99fd8",
   "metadata": {},
   "source": [
    "## Distance between unaliged ellipses (WIP)\n",
    "$$\n",
    "A_0x_0^2 + B_0x_0y_0 + C_0y_0^2 + D_0x_0 + E_0y_0 + F_0 = 0 \\\\\n",
    "A_1x_1^2 + B_1x_1y_1 + C_1y_1^2 + D_1x_1 + E_1y_1 + F_1 = 0 \\\\\n",
    "d^2 = (x_1-x_0)^2 + (y_1-y_0)^2 \\\\\n",
    "\\frac{\\partial{d}}{\\partial{x_0}} = x_1 - x_0 + (y_1 - y_0)y_0' = 0\n",
    "$$"
   ]
  },
  {
   "cell_type": "markdown",
   "id": "b70bf828",
   "metadata": {},
   "source": [
    "$$\n",
    "2A_1x_1dx_1 + B_1x_1dy_1 + B_1y_1dx_1 + 2C_1y_1dy_1 + D_1dx_1 + E_1dy_1 = 0 \\\\\n",
    "dx_1(2A_1x_1 + B_1y_1 + D_1) = -dy_1(B_1x_1 + 2C_1y_1 + E_1) \\\\\n",
    "y_0' = \\frac{dy_0}{dx_0} = -\\frac{2A_0x_0 + B_0y_0 + D_0}{2C_0y_0 + B_0x_0 + E_0} = -\\frac{u_x}{u_y} \\\\\n",
    "y_1' = \\frac{dy_1}{dx_1} = -\\frac{2A_1x_1 + B_1y_1 + D_1}{2C_1y_1 + B_1x_1 + E_1} = -\\frac{v_x}{v_y} \\\\\n",
    "$$"
   ]
  },
  {
   "cell_type": "markdown",
   "id": "1eb8c5fa",
   "metadata": {},
   "source": [
    "$$\n",
    "u_y(x_1 - x_0) = u_x(y_1 - y_0) \\\\\n",
    "v_y(x_1 - x_0) = v_x(y_1 - y_0) \\\\\n",
    "$$"
   ]
  },
  {
   "cell_type": "markdown",
   "id": "adc655b0",
   "metadata": {},
   "source": [
    "## Distance between unit circle, aligned ellipse (WIP)\n",
    "$$\n",
    "\\begin{eqnarray}\n",
    "x_0^2 + y_0^2 &=& 1 \\\\\n",
    "\\left(\\frac{x_1-c_x}{r_x}\\right)^2 + \\left(\\frac{y_1-c_y}{r_y}\\right)^2 &=& 1 \\\\\n",
    "x_0 &=& \\cos{\\theta_0} \\\\\n",
    "y_0 &=& \\sin{\\theta_0} \\\\\n",
    "\\tan{\\theta_0} &=& \\frac{y_0}{x_0} \\\\\n",
    "\\tan{\\theta_1} &=& \\frac{r_x}{r_y}\\frac{y_1 - c_y}{x_1 - c_x} \\\\\n",
    "d^2 &=& (x_1-x_0)^2 + (y_1-y_0)^2 = \\\\\n",
    "&=& x_0^2 - 2x_0x_1 + x_1^2 + y_0^2 - 2y_0y_1 + y_1^2 \\\\\n",
    "&=& 1 + x_1^2 + y_1^2 - 2x_0x_1 - 2y_0y_1 \\\\\n",
    "y_0' &=& -\\frac{x_0}{y_0} = -\\frac{1}{\\tan{\\theta_0}} \\\\\n",
    "y_1' &=& -\\frac{r_y^2}{r_x^2}\\frac{x_1 - c_x}{y_1 - c_y} = -\\frac{r_y}{r_x}\\frac{1}{\\tan{\\theta_1}} \\\\\n",
    "y_0' &=& y_1' = -\\frac{x_1 - x_0}{y_1 - y_0} \\\\\n",
    "\\end{eqnarray}\n",
    "$$"
   ]
  },
  {
   "cell_type": "markdown",
   "id": "7890e680",
   "metadata": {},
   "source": [
    "$$\n",
    "\\frac{dd}{dx_1} = x_1 + y_1y_1' - x_0 - y_0y_1' = 0 \\\\\n",
    "\\frac{dd}{dx_0} = -x_1 - y_1y_0' = 0 \\\\\n",
    "$$"
   ]
  },
  {
   "cell_type": "markdown",
   "id": "407cf6dc",
   "metadata": {},
   "source": [
    "$$\n",
    "x_1y_0 = x_0y_1 \\\\\n",
    "y_1'(y_1 - y_0) = x_0 - x_1 \\\\\n",
    "r_y^2(y_1 - y_0)(x_1 - c_x) = r_x^2(x_1 - x_0)(y_1 - c_y) \\\\\n",
    "$$"
   ]
  },
  {
   "cell_type": "markdown",
   "id": "fc9d1778",
   "metadata": {},
   "source": [
    "$$\n",
    "r_y^2(y_1(x_1 - c_x) + y_0c_x - y_0x_1) = r_x^2(x_1(y_1 - c_y) + x_0c_y - x_0y_1) \\\\\n",
    "$$"
   ]
  },
  {
   "cell_type": "markdown",
   "id": "0e3cc2f5",
   "metadata": {},
   "source": [
    "$$\n",
    "r_x^2x_0y_1 - r_y^2y_0x_1 = r_x^2(x_1(y_1 - c_y) + x_0c_y) - r_y^2(y_1(x_1 - c_x) + y_0c_x) \\\\\n",
    "$$"
   ]
  },
  {
   "cell_type": "markdown",
   "id": "235bc320",
   "metadata": {},
   "source": [
    "### 4-ellipse initial configuration\n",
    "\n",
    "Mimicking outer two (red and yellow) ellipses from:\n",
    "![](https://github.com/runsascoded/apvd/blob/main/4-ellipses.png?raw=true)\n",
    "\n",
    "Rotated 45° clockwise, centering red at $(0,0)$, and solving for $(c_x, c_y)$ so that they are tangent to each other at the bottom intersection point:\n",
    "$$\n",
    "4x^2 + y^2 = 4 \\\\\n",
    "(x - c_x)^2 + 4(y - c_y)^2 = 4 \\\\\n",
    "x^2 - 2c_xx + c_x^2 + 4(4 - 4x^2) - 8c_yy + 4c_y^2 = 4 \\\\\n",
    "y = \\frac{1}{8c_y}(-15x^2 - 2c_xx + c_x^2 + 12) = 2\\sqrt{1 - x^2} \\\\\n",
    "$$"
   ]
  },
  {
   "cell_type": "markdown",
   "id": "92c5f4aa",
   "metadata": {},
   "source": [
    "$$\n",
    "\\begin{pmatrix}\n",
    "\\cos{\\theta} & -\\sin{\\theta} \\\\\n",
    "\\sin{\\theta} &  \\cos{\\theta} \\\\\n",
    "\\end{pmatrix}\n",
    "\\begin{pmatrix}\n",
    "x \\\\\n",
    "y \\\\\n",
    "\\end{pmatrix}\n",
    "=\n",
    "\\begin{pmatrix}\n",
    "x\\cos{\\theta} - y\\sin{\\theta} \\\\\n",
    "x\\sin{\\theta} + y\\cos{\\theta} \\\\\n",
    "\\end{pmatrix}\n",
    "=\n",
    "\\begin{pmatrix}\n",
    "u \\\\\n",
    "v \\\\\n",
    "\\end{pmatrix}\n",
    "$$"
   ]
  },
  {
   "cell_type": "markdown",
   "id": "9b1fb8fe",
   "metadata": {},
   "source": [
    "$$\n",
    "Ax^2 + Bxy + Cy^2 + Dx + Ey + F = 0 \\\\\n",
    "x = u\\cos{\\theta} - v\\sin{\\theta} \\\\\n",
    "y = u\\sin{\\theta} + v\\cos{\\theta} \\\\\n",
    "Au^2c^2 - 2Acsuv + Av^2s^2 + Bcs(u^2 + v^2) + B(c^2 - s^2)uv + Cu^2s^2 + 2Ccsuv + Cv^2c^2 + D(uc - vs) + E(us + vc) + F = 0 \\\\\n",
    "(Ac^2 + Bcs + Cs^2)u^2 + (2cs(C - A) + B(c^2 - Bs^2))uv + (As^2 + Bcs + Cc^2)v^2 + (Dc + Es)u + (-Ds + Ec)v + F = 0 \\\\\n",
    "A_1 = Ac^2 + Bcs + Cs^2 \\\\\n",
    "B_1 = (C - A)\\sin{2\\theta} + B\\cos{2\\theta} \\\\\n",
    "C_1 = As^2 + Bcs + Cc^2 \\\\\n",
    "D_1 = Dc + Es \\\\\n",
    "E_1 = -Ds + Ec \\\\\n",
    "F_1 = F \\\\\n",
    "B_1 = 0 \\implies \\tan{2\\theta} = \\frac{B}{A-C} \\\\\n",
    "$$"
   ]
  },
  {
   "cell_type": "markdown",
   "id": "a681b919",
   "metadata": {},
   "source": [
    "2 ellipses with conditions:\n",
    "- 45° rotated ($A=C$)\n",
    "- passing through origin ($F=0$)\n",
    "- mirrors over $y$-axis ($B_0 = -B_1$, $D_0 = -D_1$)\n",
    "- $y'(0, 0) = 0$\n",
    "\n",
    "$$\n",
    "x_0^2 + Bx_0y_0 + y_0^2 + Dx_0 + Ey_0 = 0 \\\\\n",
    "x_1^2 - Bx_1y_1 + y_1^2 - Dx_1 + Ey_1 = 0 \\\\\n",
    "2x_0 + x_0y_0' + y_0 + 2y_0y_0' + D + Ey_0' = 0 \\\\\n",
    "y_0'(x_0 + 2y_0 + E) = -(2x_0 + y_0 + D) \\\\\n",
    "y_0' = -\\frac{2x_0 + y_0 + D}{x_0 + 2y_0 + E} \\\\\n",
    "y_0'(0, 0) = 0 \\implies D = 0 \\\\\n",
    "x = u + v \\\\\n",
    "y = -u + v \\\\\n",
    "(u+v)^2 + B(v^2-u^2) + (v-u)^2 + E(v-u) = 0 \\\\\n",
    "u^2 + 2uv + v^2 + Bv^2 - Bu^2 + u^2 -2uv + v^2 - Eu + Ev = 0 \\\\\n",
    "(2 - B)u^2 - Eu + \\frac{E^2}{4(2-B)} + (2 + B)v^2 + Ev + \\frac{E^2}{4(2+B)} = \\frac{E^2}{2}\\frac{4+B^2}{4-B^2} \\\\\n",
    "w = \\frac{E^2}{2}\\frac{4+B^2}{4-B^2} \\\\\n",
    "\\frac{2-B}{w}\\left(u - \\frac{E}{2(2-B)}\\right)^2 + \\frac{2+B}{w}\\left(v - \\frac{E}{2(2+B)}\\right)^2 = 1 \\\\\n",
    "r_u = \\sqrt{\\frac{w}{2-B}} \\\\\n",
    "r_v = \\sqrt{\\frac{w}{2+B}} \\\\\n",
    "$$"
   ]
  },
  {
   "cell_type": "markdown",
   "id": "5ff1b9b6",
   "metadata": {},
   "source": [
    "$r_x=r$, $r_y=1$, passes through origin, with slope -1:\n",
    "$$\n",
    "(x-c_x)^2 + r^2(y-c_y)^2 = r^2 \\\\\n",
    "c_x^2 + r^2c_y^2 = r^2 \\\\\n",
    "x - c_x + r^2(y - c_y)y' = 0 \\\\\n",
    "y' = -\\frac{1}{r^2}\\frac{x-c_x}{y-c_y} \\\\\n",
    "y'(0, 0) = -1 = -\\frac{1}{r^2}\\frac{c_x}{c_y} \\implies c_x = r^2c_y \\\\\n",
    "c_y^2 = \\frac{1}{r^2 + 1} \\\\\n",
    "c_x = \\frac{r^2}{\\sqrt{1+r^2}} \\\\\n",
    "c_y = \\frac{1}{\\sqrt{1+r^2}} \\\\\n",
    "$$"
   ]
  },
  {
   "cell_type": "code",
   "execution_count": null,
   "id": "7d7488a9",
   "metadata": {},
   "outputs": [],
   "source": []
  }
 ],
 "metadata": {
  "kernelspec": {
   "display_name": "Python 3 (ipykernel)",
   "language": "python",
   "name": "python3"
  },
  "language_info": {
   "codemirror_mode": {
    "name": "ipython",
    "version": 3
   },
   "file_extension": ".py",
   "mimetype": "text/x-python",
   "name": "python",
   "nbconvert_exporter": "python",
   "pygments_lexer": "ipython3",
   "version": "3.9.13"
  }
 },
 "nbformat": 4,
 "nbformat_minor": 5
}
