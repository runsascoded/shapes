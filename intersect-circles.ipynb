{
 "cells": [
  {
   "cell_type": "markdown",
   "id": "9e6ec64b",
   "metadata": {},
   "source": [
    "## Unit circle vs. $(c_x,c_y)$ / $r$:\n",
    "$$\n",
    "x^2 + y^2 = 1 \\\\\n",
    "(x-c_x)^2 + (y-c_y)^2 = r^2 \\\\\n",
    "1 - 2xc_x + c_x^2 - 2c_y\\sqrt{1-x^2} + c_y^2 = r^2\n",
    "$$"
   ]
  },
  {
   "cell_type": "markdown",
   "id": "6d52570a",
   "metadata": {},
   "source": [
    "$$\n",
    "C = c_x^2 + c_y^2 \\\\\n",
    "D = C - r^2 + 1 \\\\\n",
    "D - 2xc_x = 2c_y\\sqrt{1-x^2} \\\\\n",
    "D - 2yc_y = 2c_x\\sqrt{1-y^2}\n",
    "$$"
   ]
  },
  {
   "cell_type": "markdown",
   "id": "be22394d",
   "metadata": {},
   "source": [
    "$$\n",
    "4c_x^2x^2 - 4c_xDx + D^2 = 4c_y^2(1-x^2)\n",
    "$$"
   ]
  },
  {
   "cell_type": "markdown",
   "id": "e1d536b5",
   "metadata": {},
   "source": [
    "$$\n",
    "4Cx^2 - 4c_xDx + D^2 - 4c_y^2 = 0\n",
    "$$"
   ]
  },
  {
   "cell_type": "markdown",
   "id": "149d5344",
   "metadata": {},
   "source": [
    "$$\n",
    "a = 4C \\\\\n",
    "b = -4c_xD \\\\\n",
    "c = D^2 - 4c_y^2 \\\\\n",
    "x = \\frac{-b ± \\sqrt{b^2-4ac}}{2a}\n",
    "$$"
   ]
  },
  {
   "cell_type": "markdown",
   "id": "fa6796e8",
   "metadata": {},
   "source": [
    "$$\n",
    "x = \\frac{c_xD ± \\sqrt{c_x^2D^2 -CD^2 + 4Cc_y^2}}{2C}\n",
    "$$"
   ]
  },
  {
   "cell_type": "markdown",
   "id": "543849a1",
   "metadata": {},
   "source": [
    "$$\n",
    "x = \\frac{c_xD ± c_y\\sqrt{4C - D^2}}{2C}\n",
    "$$"
   ]
  },
  {
   "cell_type": "markdown",
   "id": "12652796",
   "metadata": {},
   "source": [
    "$$\n",
    "x = \\frac{c_xD ± c_y\\sqrt{4C - (C + (1-r^2))^2}}{2C}\n",
    "$$"
   ]
  },
  {
   "cell_type": "markdown",
   "id": "3addeb04",
   "metadata": {},
   "source": [
    "$$\n",
    "x = \\frac{c_xD ± c_y\\sqrt{4C - C^2 - 2C(1-r^2) - (1-r^2)^2}}{2C}\n",
    "$$"
   ]
  },
  {
   "cell_type": "markdown",
   "id": "583f5c7f",
   "metadata": {},
   "source": [
    "$$\n",
    "x = \\frac{c_xD ± c_y\\sqrt{-C^2 + 2C + 2Cr^2 - 1 + 2r^2 - r^4}}{2C}\n",
    "$$"
   ]
  },
  {
   "cell_type": "markdown",
   "id": "66b85788",
   "metadata": {},
   "source": [
    "$$\n",
    "x = \\frac{c_xD ± c_y\\sqrt{4r^2 - (1+r^2 - C)^2}}{2C}\n",
    "$$"
   ]
  },
  {
   "cell_type": "markdown",
   "id": "ffcac924",
   "metadata": {},
   "source": [
    "$$\n",
    "y = ±\\sqrt{1-x^2} \\\\\n",
    "y = ±\\sqrt{r^2 - (x-c_x)^2} + c_y\n",
    "$$"
   ]
  },
  {
   "cell_type": "markdown",
   "id": "c4f67c97",
   "metadata": {},
   "source": [
    "## 2 Circles\n",
    "$$\n",
    "(x - x_0)^2 + (y - y_0)^2 = r_0^2 \\\\\n",
    "(x - x_1)^2 + (y - y_1)^2 = r_1^2\n",
    "$$"
   ]
  },
  {
   "cell_type": "markdown",
   "id": "843c98b7",
   "metadata": {},
   "source": [
    "$$\n",
    "x^2 + y^2 = r_0^2 + 2xx_0 + 2yy_0 - x_0^2 - y_0^2 = r_1^2 + 2xx_1 + 2yy_1 - x_1^2 - y_1^2\n",
    "$$"
   ]
  },
  {
   "cell_type": "markdown",
   "id": "1180bc30",
   "metadata": {},
   "source": [
    "$$\n",
    "xx_0 + yy_0 = \\frac{1}{2}\\left(r_1^2 - r_0^2 + x_0^2 - x_1^2 + y_0^2 - y_1^2\\right) + xx_1 + yy_1\n",
    "$$"
   ]
  },
  {
   "cell_type": "markdown",
   "id": "48d853c6",
   "metadata": {},
   "source": [
    "$$\n",
    "z = \\frac{1}{2}\\left(r_1^2 - r_0^2 + x_0^2 - x_1^2 + y_0^2 - y_1^2\\right) \\\\\n",
    "xx_0 + yy_0 = z + xx_1 + yy_1\n",
    "$$"
   ]
  },
  {
   "cell_type": "markdown",
   "id": "5fab4d20",
   "metadata": {},
   "source": [
    "$$\n",
    "x(x_0-x_1) = z + y(y_1-y_0) \\\\\n",
    "x = \\frac{z + y(y_1-y_0)}{x_0-x_1}\n",
    "$$"
   ]
  },
  {
   "cell_type": "markdown",
   "id": "a4255b72",
   "metadata": {},
   "source": [
    "$$\n",
    "d_y = y_1 - y_0 \\\\\n",
    "d_x = x_1 - x_0 \\\\\n",
    "d_r = r_1 - r_0 \\\\\n",
    "u_y = -\\frac{d_y}{d_x} \\\\\n",
    "v_y = -\\frac{z}{d_x} \\\\\n",
    "x = u_yy + v_y\n",
    "$$"
   ]
  },
  {
   "cell_type": "markdown",
   "id": "e439cd3f",
   "metadata": {},
   "source": [
    "$$\n",
    "(u_yy+v_y - x_0)^2 + (y - y_0)^2 = r_0^2\n",
    "$$"
   ]
  },
  {
   "cell_type": "markdown",
   "id": "58297766",
   "metadata": {},
   "source": [
    "$$\n",
    "y^2(u_y^2 + 1) + y(2u_yv_y - 2u_yx_0 - 2y_0) + (v_y-x_0)^2 + y_0^2 - r_0^2\n",
    "$$"
   ]
  },
  {
   "cell_type": "markdown",
   "id": "d8da6adf",
   "metadata": {},
   "source": [
    "$$\n",
    "a_y = u_y^2 + 1 \\\\\n",
    "b_y = u_yv_y - u_yx_0 - y_0 \\\\\n",
    "c_y = (v_y-x_0)^2 + y_0^2 - r_0^2 \\\\\n",
    "f_y = \\frac{b_y}{a_y} \\\\\n",
    "y = -f_y ± \\sqrt{f_y^2 - \\frac{c_y}{a_y}}\n",
    "$$"
   ]
  },
  {
   "cell_type": "markdown",
   "id": "d4d75f84",
   "metadata": {},
   "source": [
    "$$\n",
    "x_2 = \\frac{1}{r_0}(x - x_0) \\\\\n",
    "y_2 = \\frac{1}{r_0}(y - y_0) \\\\\n",
    "x_2^2 + y_2^2 = 1\n",
    "$$"
   ]
  },
  {
   "cell_type": "markdown",
   "id": "d149c7f7",
   "metadata": {},
   "source": [
    "## Another circle substitution\n",
    "$$\n",
    "(x - x_0)^2 + (y - y_0)^2 = r_0^2 \\\\\n",
    "(x - x_1)^2 + (y - y_1)^2 = r_1^2 \\\\\n",
    "x = r_0x_2 + x_0 \\\\\n",
    "y = r_0y_2 + y_0 \\\\\n",
    "x_2 = \\frac{x - x_0}{r_0} \\\\\n",
    "y_2 = \\frac{y - y_0}{r_0} \\\\\n",
    "x_2^2 + y_2^2 = 1 \\\\\n",
    "(r_0x_2 + x_0 - x_1)^2 + (r_0y_2 + y_0 - y_1)^2 = r_1^2 \\\\\n",
    "d_x = x_1 - x_0 \\\\\n",
    "d_y = y_1 - y_0 \\\\\n",
    "(r_0x_2 - d_x)^2 + (r_0y_2 - d_y)^2 = r_1^2 \\\\\n",
    "$$"
   ]
  },
  {
   "cell_type": "markdown",
   "id": "69fdf177",
   "metadata": {},
   "source": [
    "$$\n",
    "r_0^2 -2d_xr_0x_2 + d_x^2 - 2d_yr_0y_2 + d_y^2 = r_1^2\n",
    "$$"
   ]
  },
  {
   "cell_type": "markdown",
   "id": "d28c1e11",
   "metadata": {},
   "source": [
    "$$\n",
    "w = \\frac{1}{2r_0}\\left(r_0^2 - r_1^2 + d_x^2 + d_y^2\\right) = d_xx_2 + d_yy_2 \\\\\n",
    "u_y = -\\frac{d_x}{d_y} \\\\\n",
    "v_y = \\frac{w}{d_y} \\\\\n",
    "y_2 = u_yx_2 + v_y \\\\\n",
    "u_x = -\\frac{d_y}{d_x} \\\\\n",
    "v_x = \\frac{w}{d_x} \\\\\n",
    "x_2 = u_xy_2 + v_x\n",
    "$$"
   ]
  },
  {
   "cell_type": "markdown",
   "id": "b8566dde",
   "metadata": {},
   "source": [
    "$$\n",
    "y_2^2 + x_2^2 - 1 = y_2^2(u_x^2 + 1) + 2u_xv_xy_2 + v_x^2 - 1 = 0\n",
    "$$"
   ]
  },
  {
   "cell_type": "markdown",
   "id": "42b34190",
   "metadata": {},
   "source": [
    "$$\n",
    "a = u_x^2 + 1 \\\\\n",
    "b = u_xv_x \\\\\n",
    "c = v_x^2 - 1 \\\\\n",
    "f = \\frac{u_xv_x}{u_x^2 + 1} \\\\\n",
    "y_2 = f ± \\sqrt{f^2 + 1 - v_x^2}\n",
    "$$"
   ]
  },
  {
   "cell_type": "markdown",
   "id": "026e715e",
   "metadata": {},
   "source": [
    "## Ellipses\n",
    "$$\n",
    "A_0x^2 + B_0xy + C_0y^2 + D_0x + E_0y + F_0 = 0 \\\\\n",
    "A_1x^2 + B_1xy + C_1y^2 + D_1x + E_1y + F_1 = 0\n",
    "$$"
   ]
  },
  {
   "cell_type": "markdown",
   "id": "6088a098",
   "metadata": {},
   "source": [
    "$$\n",
    "x = u_xx_0 + v_x \\\\\n",
    "y = u_yy_0 + v_y \\\\\n",
    "A_0(u_xx_0 + v_x)^2 + B_0(u_xx_0 + v_x)(u_yy_0 + v_y) + C_0(u_yy_0 + v_y)^2 + D_0(u_xx_0 + v_x) + E_0(u_yy_0 + v_y) + F_0 = 0\n",
    "$$"
   ]
  },
  {
   "cell_type": "markdown",
   "id": "5414b67d",
   "metadata": {},
   "source": [
    "$$\n",
    "A_0u_x^2x_0^2 + B_0u_xu_yx_0y_0 + C_0u_y^2y_0^2 + x_0(2A_0u_xv_x + B_0u_xv_y + D_0u_x) + y_0(B_0u_yv_x + 2C_0u_yv_y + E_0u_y) + (A_0v_x^2 + B_0v_xv_y + C_0v_y^2 + D_0v_x + E_0v_y + F_0) = 0\n",
    "$$"
   ]
  },
  {
   "cell_type": "markdown",
   "id": "82d31ba0",
   "metadata": {},
   "source": [
    "$$\n",
    "A_2 = A_0u_x^2 \\\\\n",
    "B_2 = B_0u_xu_y \\\\\n",
    "C_2 = C_0u_y^2 \\\\\n",
    "D_2 = 2A_0u_xv_x + B_0u_xv_y + D_0u_x \\\\\n",
    "E_2 = 2C_0u_yv_y + B_0u_yv_x + E_0u_y \\\\\n",
    "F_2 = A_0v_x^2 + B_0v_xv_y + C_0v_y^2 + D_0v_x + E_0v_y + F_0 \\\\\n",
    "A_2x^2 + B_2xy + C_2y^2 + D_2x + E_2y + F_2 = 0\n",
    "$$"
   ]
  },
  {
   "cell_type": "code",
   "execution_count": null,
   "id": "baec7f91",
   "metadata": {},
   "outputs": [],
   "source": []
  }
 ],
 "metadata": {
  "kernelspec": {
   "display_name": "Python 3 (ipykernel)",
   "language": "python",
   "name": "python3"
  },
  "language_info": {
   "codemirror_mode": {
    "name": "ipython",
    "version": 3
   },
   "file_extension": ".py",
   "mimetype": "text/x-python",
   "name": "python",
   "nbconvert_exporter": "python",
   "pygments_lexer": "ipython3",
   "version": "3.9.13"
  }
 },
 "nbformat": 4,
 "nbformat_minor": 5
}
