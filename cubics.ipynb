{
 "cells": [
  {
   "cell_type": "markdown",
   "id": "b370ec00",
   "metadata": {},
   "source": [
    "# Solving cubic equations\n",
    "([wiki](https://en.wikipedia.org/wiki/Cubic_equation))"
   ]
  },
  {
   "cell_type": "markdown",
   "id": "b74f1479",
   "metadata": {},
   "source": [
    "## Overview\n",
    "Given:\n",
    "\n",
    "$$\n",
    "ax^3 + bx^2 + cx + d = 0 \\\\\n",
    "$$"
   ]
  },
  {
   "cell_type": "markdown",
   "id": "8dd4b842",
   "metadata": {},
   "source": [
    "[Simple substitutions](#substitutions) can turn it into one of:\n",
    "\n",
    "$$\n",
    "\\begin{eqnarray}\n",
    "4x^3 - 3x = u &&&&& |u| \\le 1 \\\\\n",
    "4x^3 - 3x = u &&&&& |u| \\gt 1 \\\\\n",
    "4x^3 + 3x = u &&&&& u \\in \\mathbb{R} \\\\\n",
    "\\end{eqnarray}\n",
    "$$"
   ]
  },
  {
   "cell_type": "markdown",
   "id": "ea4d9955",
   "metadata": {},
   "source": [
    "These are special cubics, that correspond to the three identities:\n",
    "\n",
    "$$\n",
    "4\\cos^3\\theta - 3\\cos{\\theta} = \\cos{3\\theta} \\\\\n",
    "4\\cosh^3\\theta - 3\\cosh{\\theta} = \\cosh{3\\theta} \\\\\n",
    "4\\sinh^3\\theta + 3\\sinh{\\theta} = \\sinh{3\\theta} \\\\\n",
    "$$"
   ]
  },
  {
   "cell_type": "markdown",
   "id": "af670b9d",
   "metadata": {},
   "source": [
    "The original coefficients determine the value of $u$ (and the sign of the \"$3$\" term). Whichever of the three cases we arrive at, we can substitute $u = \\cos{3\\theta}$ and $x = \\cos\\theta$ (or similar), and an inverse $\\cos$ (or $\\cosh$ or $\\sinh$) solves for $\\theta$ (and therefore $x$!):\n",
    "\n",
    "$$\n",
    "\\begin{eqnarray}\n",
    "\\theta &=& \\frac{1}{3}\\cos^{-1}u & \\implies x = \\cos\\left(\\frac{1}{3}\\cos^{-1}u\\right) &&&&& \\text{or} \\\\\n",
    "\\theta &=& \\frac{1}{3}\\cosh^{-1}u & \\implies x = \\cosh\\left(\\frac{1}{3}\\cosh^{-1}u\\right)  &&&&& \\text{or} \\\\\n",
    "\\theta &=& \\frac{1}{3}\\sinh^{-1}u & \\implies x = \\sinh\\left(\\frac{1}{3}\\sinh^{-1}u\\right)  \\\\\n",
    "\\end{eqnarray}\n",
    "$$\n",
    "\n",
    "The first equation corresponds to the \"3 real roots\" case, the latter two have one real root and a complex pair of roots.\n",
    "\n",
    "But where do the 3 roots come from, in each case?"
   ]
  },
  {
   "cell_type": "markdown",
   "id": "4f502982",
   "metadata": {},
   "source": [
    "### $\\frac{1}{3}$ inside the $\\cos$ yields 3 solutions for $x$ (in each case) <a id=\"three\"></a>\n",
    "$\\cos$ is periodic every $2\\pi$ (and $\\cosh$ and $\\sinh$ every $2\\pi{i}$), so each of these can be turned into three solutions (corresponding to the three roots of the original cubic):\n",
    "$$\n",
    "\\begin{eqnarray}\n",
    "x = \\cos \\left(\\frac{ \\cos^{-1}u + 2\\pi{k}}{3} \\right) &&&&& k \\in \\left[0, 1, 2\\right] \\\\\n",
    "x = \\cosh\\left(\\frac{\\cosh^{-1}u + 2\\pi{i}{k}}{3} \\right) &&&&& k \\in \\left[0, 1, 2\\right] \\\\\n",
    "x = \\sinh\\left(\\frac{\\sinh^{-1}u + 2\\pi{i}{k}}{3} \\right) &&&&& k \\in \\left[0, 1, 2\\right] \\\\\n",
    "\\end{eqnarray}\n",
    "$$"
   ]
  },
  {
   "cell_type": "markdown",
   "id": "e1ad7800",
   "metadata": {},
   "source": [
    "Intuition: $\\cos^{-1}u = \\theta$ means \"$\\theta$ is _an_ angle with a $\\cos$ of $u$,\" but so are $\\theta + 2\\pi$, $\\theta + 4\\pi$, $\\theta + 2\\pi{k}$ for $k \\in \\mathbb{Z}$.\n",
    "\n",
    "Note that, in the equations above:\n",
    "- $k=3$ yields the same $x$ as $k=0$ (since they differ by an even $2\\pi$ inside the $\\cos$,\n",
    "- $k=4$ yields the same $x$ as $k=1$,\n",
    "- etc.\n",
    "\n",
    "So there are exactly 3 unique values of $x$ which can be obtained by this \"$\\cos^{-1}$\", \"divide by $3$\", \"$\\cos$\" chain of operations. We can add zero, one, or two $2\\pi$'s to a given value returned from $\\cos^{-1}$, and get different values of $x$.\n",
    "\n",
    "(Similar applies for adding $0$, $1$, or $2$ turns of $2\\pi{i}$ to the $\\cosh$/$\\sinh$ versions."
   ]
  },
  {
   "cell_type": "markdown",
   "id": "2b3a80e2",
   "metadata": {},
   "source": [
    "### $\\cos$ $\\approx$ $\\log$\n",
    "There is a deep connection between $\\cos$/$\\sin$ (and $\\cosh$/$\\sinh$) and $\\log$:\n",
    "\n",
    "$$\n",
    "e^{\\theta{i}} = \\cos\\theta + i\\sin\\theta \\\\\n",
    "e^{\\theta} = \\cosh\\theta + \\cosh{-\\theta} = \\sinh\\theta - \\sinh{-\\theta} \\\\\n",
    "$$\n",
    "\n",
    "Multiplying inside these operations corresponds to raising to a power outside, and dividing corresponds to taking roots. You can also see this in identities for $\\cos{2\\theta}$, $\\cos{3\\theta}$, etc. using the addition/subtraction formulas:\n",
    "\n",
    "$$\n",
    "\\cos(\\alpha \\pm \\beta) = \\cos{\\alpha}\\cos{\\beta} \\mp \\sin{\\alpha}\\sin{\\beta} \\\\\n",
    "\\sin(\\alpha \\pm \\beta) = \\sin{\\alpha}\\cos{\\beta} \\pm \\cos{\\alpha}\\sin{\\beta} \\\\\n",
    "$$\n",
    "which let us derive:\n",
    "$$\n",
    "\\cos{2\\theta} = \\cos^2{\\theta} - \\sin^2{\\theta} \\\\\n",
    "\\sin{2\\theta} = 2\\sin{\\theta}\\cos{\\theta} \\\\\n",
    "$$\n",
    "\n",
    "Multiplying by 2 *inside* the $\\sin$/$\\cos$ creates a 2nd-degree polynomial *outside*. Similarly,\n",
    "$\\cos{3\\theta}$ is a cubic polynomial of $\\cos{theta}$:\n",
    "\n",
    "$$\n",
    "\\begin{eqnarray}\n",
    "\\cos{3\\theta} &=& \\cos{2\\theta}\\cos{\\theta} - \\sin{2\\theta}\\sin{\\theta} \\\\\n",
    "&=& \\left(\\cos^2{\\theta} - \\sin^2{\\theta}\\right)\\cos{\\theta} - 2\\sin^2{\\theta}\\cos^2{\\theta} \\\\\n",
    "&=& cos^3{\\theta} - 3(1 - \\cos^2{\\theta})\\cos{\\theta} \\\\\n",
    "&=& 4cos^3{\\theta} - 3\\cos{\\theta} \\\\\n",
    "\\end{eqnarray}\n",
    "$$\n",
    "\n",
    "This is some intuition for why the earlier \"$\\cos^{-1}$\", \"divide by 3\", \"$\\cos$\" behaves like a \"cube root\" operation, decomposing the cubic."
   ]
  },
  {
   "cell_type": "markdown",
   "id": "29532484",
   "metadata": {},
   "source": [
    "### $\\cosh$/$\\sinh$: \"hyperbolic\" $\\cos$/$\\sin$ 😱\n",
    "Don't worry if you are not familiar with these. In some ways they are simpler to work with than \"regular\" (\"circular\") $\\cos$/$\\sin$:\n",
    "\n",
    "$$\n",
    "\\cosh\\theta = \\frac{e^x + e^{-x}}{2} \\\\\n",
    "\\sinh\\theta = \\frac{e^x - e^{-x}}{2} \\\\\n",
    "$$\n",
    "\n",
    "([wiki](https://en.wikipedia.org/wiki/Hyperbolic_functions))\n",
    "\n",
    "There's no other magic to them, the original $\\cosh{3\\theta}$ / $\\sinh{3\\theta}$ identities can be derived from these definitions, as can their inverses:\n",
    "\n",
    "$$\n",
    "\\cosh^{-1}u = \\ln\\left(u + \\sqrt{u^2-1}\\right) \\\\\n",
    "\\sinh^{-1}u = \\ln\\left(u + \\sqrt{u^2+1}\\right) \\\\\n",
    "$$"
   ]
  },
  {
   "cell_type": "markdown",
   "id": "9be5a304",
   "metadata": {},
   "source": [
    "## Substitutions: $ax^3 + bx^2 + cx + d = 0$ to $4x^3 \\pm 3x = u$ <a id=\"substitutions\"></a>\n",
    "Beginning with:\n",
    "$$\n",
    "ax^3 + bx^2 + cx + d = 0\n",
    "$$"
   ]
  },
  {
   "cell_type": "markdown",
   "id": "e4460697",
   "metadata": {},
   "source": [
    "### Divide by $a$ ($x^3$ coefficient becomes $1$)\n",
    "\n",
    "$$\n",
    "b_1 = \\frac{b}{a} \\\\\n",
    "c_1 = \\frac{c}{a} \\\\\n",
    "d_1 = \\frac{d}{a} \\\\\n",
    "x^3 + b_1x^2 + c_1x + d_1 = 0 \\\\\n",
    "$$\n",
    "\n",
    "The subscripts distinguish between versions of the coefficients (and $x$ itself, below), for unwinding later."
   ]
  },
  {
   "cell_type": "markdown",
   "id": "9b0317f7",
   "metadata": {},
   "source": [
    "### Shift by $\\frac{b_1}{3}$ to eliminate $b$ (the $x^2$ coefficient)\n",
    "\n",
    "$$\n",
    "% x = x_1 + u_1 \\\\\n",
    "% u_1 = -\\frac{b_1}{3} \\\\\n",
    "% (x_1 + u_1)^3 - 3u_1(x_1 + u)^2 + c_1(x_1 + u) + d_1 = 0 \\\\\n",
    "x = x_1 - \\frac{b_1}{3} \\\\\n",
    "\\left(x_1 - \\frac{b_1}{3}\\right)^3 + b_1\\left(x_1 - \\frac{b_1}{3}\\right)^2 + c_1\\left(x_1 - \\frac{b_1}{3}\\right) + d_1 = 0 \\\\\n",
    "x_1^3 + \\left(c_1 - \\frac{b_1^2}{3}\\right)x + \\frac{2b_1^3}{27} - \\frac{b_1c_1}{3} + d_1 = 0 \\\\\n",
    "$$\n",
    "\n",
    "Substitute new coefficients into \"[depressed cubic](https://en.wikipedia.org/wiki/Cubic_equation#Depressed_cubic)\" (with $x^2$ coefficient $0$)\n",
    "\n",
    "$$\n",
    "p = c_1 - \\frac{b_1^2}{3} \\\\\n",
    "q = \\frac{2b_1^3}{27} - \\frac{b_1c_1}{3} + d_1 \\\\\n",
    "x_1^3 + px_1 + q = 0 \\\\\n",
    "$$"
   ]
  },
  {
   "cell_type": "markdown",
   "id": "0fd69859",
   "metadata": {},
   "source": [
    "### Scale by $2\\sqrt{\\frac{|p|}{3}}$\n",
    "To mimic the $\\cos{3\\theta}$ identities, we want our cubic to look like:\n",
    "$$\n",
    "4x^3 \\pm 3x = u\n",
    "$$\n",
    "\n",
    "The ratio between the $x^3$ and $x$ terms is the key difference from the \"depressed cubic\" above.\n",
    "\n",
    "Substituting a multiplier $r$ into $x$, we can control that ratio:\n",
    "\n",
    "$$\n",
    "\\begin{eqnarray}\n",
    "x_1 &=& rx_2 \\\\\n",
    "r^3x_2^3 + prx_2 + q &=& 0 & \\\\\n",
    "4x_2^3 + \\frac{4p}{r^2}x + \\frac{4q}{r^3} &=& 0 &&&& (\\text{multiply through by}\\frac{4}{r^3}\\text{, so that the }x^3\\text{ coefficient becomes }4)\\\\\n",
    "\\frac{4p}{r^2} &=& \\pm3 &&&& (\\text{solve for }r\\text{ so that the }x\\text{ coefficient becomes }{\\pm3}\\text{, depending on the sign of }p\\text{)} \\\\\n",
    "\\implies r &=& 2\\sqrt{\\frac{|p|}{3}} \\\\\n",
    "u &=& -\\frac{4q}{r^3} = -\\frac{q}{2}\\frac{3}{|p|}\\sqrt{\\frac{3}{|p|}} \\\\\n",
    "\\end{eqnarray}\n",
    "$$\n",
    "\n",
    "No value of $r$ is capable of changing the *sign* of the ratio between the $x^3$ and $x$ coefficients;\n",
    "- $p > 0$ $\\implies$ we will end up with $4x^3 + 3x = u$ (and must use the $\\sinh$ substitution).\n",
    "- $p < 0$ $\\implies$ we will end up with $4x^3 - 3x = u$ (and must use the $\\cos$ or $\\cosh$ substitutions, depending on whether $|u| \\le 1$).\n",
    "- $p = 0$ $\\implies$ $x_1 = u_i\\sqrt[3]{-q}\\text{  }$ (where $u_0, u_1, u_2$ are the 3rd roots of unity)."
   ]
  },
  {
   "cell_type": "markdown",
   "id": "cb2e3573",
   "metadata": {},
   "source": [
    "### Solve for $x_2$\n",
    "Now we have a cubic of the form:\n",
    "\n",
    "$$\n",
    "4x_2^3 \\pm 3x_2 = u \\\\\n",
    "$$\n",
    "\n",
    "and can use the appropriate \"$3\\theta$\" identity (see [above](#three)) to solve for $x_2$:\n",
    "\n",
    "$$\n",
    "\\begin{eqnarray}\n",
    "x_2 = \\cos \\left(\\frac{ \\cos^{-1}u + 2\\pi{k}}{3} \\right) &&&&& k \\in \\left[0, 1, 2\\right] \\\\\n",
    "x_2 = \\cosh\\left(\\frac{\\cosh^{-1}u + 2\\pi{i}{k}}{3} \\right) &&&&& k \\in \\left[0, 1, 2\\right] \\\\\n",
    "x_2 = \\sinh\\left(\\frac{\\sinh^{-1}u + 2\\pi{i}{k}}{3} \\right) &&&&& k \\in \\left[0, 1, 2\\right] \\\\\n",
    "\\end{eqnarray}\n",
    "$$\n",
    "\n",
    "Then $x_1 = rx_2$ and $x = x_1 + \\frac{b_1}{3}$, and we are done!"
   ]
  },
  {
   "cell_type": "markdown",
   "id": "aa241472",
   "metadata": {},
   "source": [
    "---"
   ]
  },
  {
   "cell_type": "markdown",
   "id": "f14818de",
   "metadata": {},
   "source": [
    "# Scratch"
   ]
  },
  {
   "cell_type": "markdown",
   "id": "57e61b69",
   "metadata": {},
   "source": [
    "## \"Perfect cube\": $\\cos{3\\theta}$\n",
    "The angle-addition formulas for $\\cos$ and $\\sin$:\n",
    "$$\n",
    "\\cos(\\alpha \\pm \\beta) = \\cos{\\alpha}\\cos{\\beta} \\mp \\sin{\\alpha}\\sin{\\beta} \\\\\n",
    "\\sin(\\alpha \\pm \\beta) = \\sin{\\alpha}\\cos{\\beta} \\pm \\cos{\\alpha}\\sin{\\beta} \\\\\n",
    "$$\n",
    "\n",
    "let us derive:\n",
    "\n",
    "$$\n",
    "\\cos{2\\theta} = \\cos^2{\\theta} - \\sin^2{\\theta} \\\\\n",
    "\\sin{2\\theta} = 2\\sin{\\theta}\\cos{\\theta} \\\\\n",
    "$$\n",
    "\n",
    "Note that multiplying by 2 *inside* the $\\sin$/$\\cos$ creates a 2nd-degree polynomial *outside*. Similarly,\n",
    "$\\cos{3\\theta}$ is a cubic polynomial of $\\cos{theta}$:\n",
    "\n",
    "$$\n",
    "\\begin{eqnarray}\n",
    "\\cos{3\\theta} &=& \\cos{2\\theta}\\cos{\\theta} - \\sin{2\\theta}\\sin{\\theta} \\\\\n",
    "&=& \\left(\\cos^2{\\theta} - \\sin^2{\\theta}\\right)\\cos{\\theta} - 2\\sin^2{\\theta}\\cos^2{\\theta} \\\\\n",
    "&=& cos^3{\\theta} - 3(1 - \\cos^2{\\theta})\\cos{\\theta} \\\\\n",
    "&=& 4cos^3{\\theta} - 3\\cos{\\theta} \\\\\n",
    "\\end{eqnarray}\n",
    "$$"
   ]
  },
  {
   "cell_type": "markdown",
   "id": "b6c7a169",
   "metadata": {},
   "source": [
    "### A more useful \"depressed cubic\": $4x^3 - 3x = u$\n",
    "The $\\cos{3\\theta}$ expression above can help solve cubic equations generally.\n",
    "\n",
    "In our $p$/$q$ depressed cubic above, $x_1$ can be scaled so that $p$ (the $x$ coefficient) becomes $\\frac{-3}{4}$:\n",
    "\n",
    "$$\n",
    "\\begin{eqnarray}\n",
    "x_1 = rx_2 \\\\\n",
    "r^3x_2^3 + prx_2 + q = 0 & \\\\\n",
    "4x_2^3 + \\frac{4p}{r^2}x + \\frac{4q}{r^3} = 0 &&&& (\\text{multiply through by}\\frac{4}{r^3}\\text{, so that the }x^3\\text{ coefficient becomes }4)\\\\\n",
    "\\frac{4p}{r^2} = -3 &&&& (\\text{solve for }r\\text{ so that the }x\\text{ coefficient becomes }{-3}) \\\\\n",
    "\\implies r = 2\\sqrt{\\frac{-p}{3}} \\\\\n",
    "\\end{eqnarray}\n",
    "$$"
   ]
  },
  {
   "cell_type": "markdown",
   "id": "f711f5f3",
   "metadata": {},
   "source": [
    "Substituting $r$ back into the cubic above, and adding a final $u$-substitution for the constant term:\n",
    "\n",
    "$$\n",
    "\\begin{eqnarray}\n",
    "4x_2^3 - 3x_2 = \\frac{q}{2}\\frac{3}{p}\\sqrt{-\\frac{3}{p}} \\\\\n",
    "u = \\frac{q}{2}\\frac{3}{p}\\sqrt{-\\frac{3}{p}} \\\\\n",
    "4x_2^3 - 3x_2 = u \\\\\n",
    "\\end{eqnarray}\n",
    "$$"
   ]
  },
  {
   "cell_type": "markdown",
   "id": "0b087f28",
   "metadata": {},
   "source": [
    "If $|u| \\le 1$, we can substitute:\n",
    "$$\n",
    "u = \\cos{3\\theta} \\\\\n",
    "x = \\cos{\\theta} \\\\\n",
    "4x_2^3 - 3x_2 = 4\\cos^3{\\theta} - 3\\cos{\\theta} = u = \\cos{3\\theta} \\\\\n",
    "\\theta = \\frac{\\cos^{-1}u}{3} \\\\\n",
    "x_2 = \\cos\\left(\\frac{\\cos^{-1}{u}}{3}\\right) \\\\\n",
    "$$\n",
    "\n",
    "Dividing by $3$ inside a $\\cos$ is like taking a cube-root on the outside (just like doubling⟺squaring and tripling⟺cubing earlier)! This hints at the deep relationship between $\\cos$/$\\sin$ and $\\exp$/$\\log$.\n",
    "\n",
    "#### Rotating by $\\frac{2\\pi}{3}$\n",
    "In the $u = \\cos{3\\theta}$ substition above, $u$ comes from our cubic equation's coefficients, and is fixed for a given equation, but there are $3$ values of $\\theta$ (and therefore $x_2$) whose $\\cos{3\\theta}$ matches a given $u$:\n",
    "\n",
    "$$\n",
    "\\theta_k = \\frac{1}{3}\\cos^{-1}(u) + \\frac{2\\pi}{3}k \\text{ for }k=0, 1, 2 \\\\\n",
    "x_{2,k} = \\cos{\\theta_k}\n",
    "$$\n",
    "\n",
    "#### Unrolling substitutions: $x_2$ → $x_1$ → $x$\n",
    "Having solved for three roots ($x_{2,0}$, $x_{2,1}$, and $x_{2,2}$) above, we can pop back up to the original $x$ we wanted to solve for:\n",
    "\n",
    "$$\n",
    "x_{1,k} = rx_{2,k} \\\\\n",
    "x_k = x_{1,k} - \\frac{b}{3} \\\\\n",
    "$$"
   ]
  },
  {
   "cell_type": "markdown",
   "id": "1eacb265",
   "metadata": {},
   "source": [
    "### 1 real root version: $|u| \\gt 1$, $\\Im{u} = 0$ ($u$ is real ⟺ $p \\lt 0$)\n",
    "Any cubic with 3 real roots is solvable with the above approach (namely, $p < 0$ and $|u| \\le 1$).\n",
    "\n",
    "With complex $\\cos$/$\\sin$, we can handle cubics with imaginary roots as well:\n",
    "\n",
    "$$\n",
    "u = \\cosh{a} = \\cos{ia} \\\\\n",
    "a = \\cosh^{-1}u = -i\\cos^{-1}u \\\\\n",
    "\\cos^{-1}{u} = \\cos^{-1}(\\cosh{a}) = ia = i\\cosh^{-1}u = i\\ln\\left(u + \\sqrt{u^2-1}\\right) + 2\\pi{k} \\\\\n",
    "w = u + \\sqrt{u^2-1} \\\\\n",
    "m = \\sqrt[3]{w} \\\\\n",
    "\\theta_k = \\frac{i}{3}\\ln{w} + \\frac{2{\\pi}k}{3} = i\\ln{m} + \\frac{2{\\pi}k}{3} \\\\\n",
    "x_{2,k} = \\cos{\\theta_k} = \\frac{e^{i\\theta_k} + e^{-i\\theta_k}}{2} \\\\\n",
    "x_{2,k} = \\frac{1}{2}\\left(mu_k + \\frac{1}{mu_k}\\right)\n",
    "$$\n",
    "\n",
    "where $u_0$, $u_1$, $u_2$ are the 3rd roots of unity: $1$, $\\frac{-1 + i\\sqrt{3}}{2}$, $\\frac{-1 - i\\sqrt{3}}{2}$. $x_{2,0}$ is the sole real root."
   ]
  },
  {
   "cell_type": "markdown",
   "id": "f4b3a7c5",
   "metadata": {},
   "source": [
    "### 1 real root version: $p > 0$\n",
    "\n",
    "If $p$ was positive in the original depressed cubic, $u = -\\frac{q}{2}\\sqrt{-\\frac{27}{p^3}}$ would be imaginary, as would be $w = u + \\sqrt{1+u^2}$.\n",
    "\n",
    "It turns out that computing $r = \\sqrt[3]{w}$ (namely, the cube root of a given imaginary $w$) is equivalent in difficulty to solving the original cubic equation! So we need to back up slightly further for the $p > 0$ case:\n",
    "\n",
    "#### The other useful \"depressed cubic\": $4x^3 + 3x = u$\n",
    "$$\n",
    "\\cosh{x} = \\frac{e^x + e^{-x}}{2} \\\\\n",
    "\\sinh{x} = \\frac{e^x - e^{-x}}{2} \\\\\n",
    "\\cosh^2x - \\sinh^2x = 1 \\\\\n",
    "\\cosh(\\alpha \\pm \\beta) = \\cosh{\\alpha}\\cosh{\\beta} \\pm \\sinh{\\alpha}\\sinh{\\beta} \\\\\n",
    "\\sinh(\\alpha \\pm \\beta) = \\sinh{\\alpha}\\cosh{\\beta} \\pm \\cosh{\\alpha}\\sinh{\\beta} \\\\\n",
    "\\cosh{2x} = \\cosh^2x + \\sinh^2x \\\\\n",
    "\\sinh{2x} = 2\\sinh{x}\\cosh{x} \\\\\n",
    "\\cosh{3x} = \\cosh{2x}\\cosh{x} + \\sinh{2x}\\sinh{x} = (\\cosh^2x + \\sinh^2x)\\cosh{x} + 2\\sinh^2{x}\\cosh{x} \\\\\n",
    "= \\cosh^3x + 3\\sinh^2x\\cosh{x}\n",
    "= 4\\cosh^3x - 3\\cosh{x} \\\\\n",
    "$$"
   ]
  },
  {
   "cell_type": "markdown",
   "id": "8cd1df31",
   "metadata": {},
   "source": [
    "$$\n",
    "\\sinh{3x} = \\sinh{2x}\\cosh{x} + \\cosh{2x}\\sinh{x}\n",
    "= 3\\sinh{x}\\cosh^2{x} + \\sinh^3x \\\\\n",
    "= 4\\sinh^3x + 3\\sinh{x} \\\\\n",
    "$$"
   ]
  },
  {
   "cell_type": "markdown",
   "id": "6bdb7ee3",
   "metadata": {},
   "source": [
    "If $p > 0$, the $r$- and $u$-substitutions above go like:\n",
    "\n",
    "$$\n",
    "\\begin{eqnarray}\n",
    "r = 2\\sqrt{\\frac{p}{3}} \\\\\n",
    "x_1 = rx_2 \\\\\n",
    "4x_2^3 + 3x_2 = -\\frac{q}{2}\\frac{3}{p}\\sqrt{\\frac{3}{p}} \\\\\n",
    "u = -\\frac{q}{2}\\frac{3}{p}\\sqrt{\\frac{3}{p}} \\\\\n",
    "4x_2^3 + 3x_2 = u \\\\\n",
    "u = \\sinh{3\\theta} \\\\\n",
    "x = \\sinh\\theta \\\\\n",
    "\\theta = \\frac{\\sinh^{-1}u}{3} = \\frac{1}{3}\\ln\\left(u + \\sqrt{u^2+1}\\right) + \\frac{2\\pi{k}}{3} \\\\\n",
    "w = u + \\sqrt{u^2+1} \\\\\n",
    "m = \\sqrt[3]{w} \\\\\n",
    "\\theta = \\frac{1}{3}\\ln{w} + \\frac{2\\pi{k}}{3} = \\ln{m} + \\frac{2\\pi{k}}{3} \\\\\n",
    "x_2 = \\sinh{\\theta} = \\frac{1}{2}\\left(e^\\theta - e^{-\\theta}\\right) \\\\\n",
    "= \\frac{1}{2}\\left(mu_k - \\frac{1}{mu_k}\\right) \\\\\n",
    "\\end{eqnarray}\n",
    "$$"
   ]
  },
  {
   "cell_type": "code",
   "execution_count": null,
   "id": "27c9d724",
   "metadata": {},
   "outputs": [],
   "source": []
  }
 ],
 "metadata": {
  "kernelspec": {
   "display_name": "Python 3 (ipykernel)",
   "language": "python",
   "name": "python3"
  },
  "language_info": {
   "codemirror_mode": {
    "name": "ipython",
    "version": 3
   },
   "file_extension": ".py",
   "mimetype": "text/x-python",
   "name": "python",
   "nbconvert_exporter": "python",
   "pygments_lexer": "ipython3",
   "version": "3.9.13"
  }
 },
 "nbformat": 4,
 "nbformat_minor": 5
}
