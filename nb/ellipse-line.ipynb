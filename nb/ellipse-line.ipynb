{
 "cells": [
  {
   "cell_type": "markdown",
   "id": "cbca117e",
   "metadata": {},
   "source": [
    "## Unaligned ellipse intersect line\n",
    "$$\n",
    "Ax^2 + Bxy + Cy^2 + Dx + Ey + F = 0 \\\\\n",
    "ax + by + c = 0 \\\\\n",
    "$$"
   ]
  },
  {
   "cell_type": "markdown",
   "id": "0105a9d2",
   "metadata": {},
   "source": [
    "## Unaligned ellipse intersect horizontal line\n",
    "$$\n",
    "Ax^2 + Bxy + Cy^2 + Dx + Ey + F = 0 \\\\\n",
    "Ax^2 + (By + D)x + Cy^2 + Ey + F = 0 \\\\\n",
    "b = \\frac{By+D}{2A} \\\\\n",
    "c = \\frac{Cy^2 + Ey + F}{A} \\\\\n",
    "x = -b \\pm \\sqrt{b^2 - c} \\\\\n",
    "$$"
   ]
  }
 ],
 "metadata": {
  "kernelspec": {
   "display_name": "Python 3 (ipykernel)",
   "language": "python",
   "name": "python3"
  },
  "language_info": {
   "codemirror_mode": {
    "name": "ipython",
    "version": 3
   },
   "file_extension": ".py",
   "mimetype": "text/x-python",
   "name": "python",
   "nbconvert_exporter": "python",
   "pygments_lexer": "ipython3",
   "version": "3.9.13"
  }
 },
 "nbformat": 4,
 "nbformat_minor": 5
}
