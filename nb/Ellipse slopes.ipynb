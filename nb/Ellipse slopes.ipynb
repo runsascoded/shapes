{
 "cells": [
  {
   "cell_type": "markdown",
   "id": "4dcbbaff",
   "metadata": {},
   "source": [
    "## Ellipse slopes\n",
    "$$\n",
    "\\frac{x^2}{r_x^2} + \\frac{y^2}{r_y^2} = 1 \\\\\n",
    "\\frac{x}{r_x^2} = -\\frac{y}{r_y^2}y' \\\\\n",
    "y' = -\\frac{r_y^2}{r_x^2}\\frac{x}{y} \\\\\n",
    "$$"
   ]
  },
  {
   "cell_type": "markdown",
   "id": "448f9cfc",
   "metadata": {},
   "source": [
    "### Bounding Box\n",
    "$$\n",
    "x^2 + Bxy + Cy^2 + Dx + Ey + F = 0 \\\\\n",
    "2x + Bxy' + By + 2Cyy' + D + Ey' = 0 \\\\\n",
    "y'(Bx + 2Cy + E) = -(2x + By + D) \\\\\n",
    "y' = -\\frac{Bx + 2Cy + E}{2x + By + D} \\\\\n",
    "y' = 0 \\implies Bx + 2Cy + E = 0 \\implies x = -\\frac{2Cy + E}{B} \\\\\n",
    "y' = \\infty \\implies 2x + By + D = 0 \\implies x = -\\frac{By + D}{2} \\implies y = \\frac{2x+D}{B} \\\\\n",
    "Cy^2 + y(Bx + E) + x^2 + Dx + F = 0 \\\\\n",
    "b_x = \\frac{Bx+E}{2C} \\\\\n",
    "c_x = \\frac{x^2+Dx+F}{C} \\\\\n",
    "d_x = b_x^2 - c_x = x^2\\left(\\frac{B^2-4C}{4C^2}\\right) + x\\frac{BE-2CD}{2C^2} + \\frac{E^2-4CF}{4C^2} \\\\\n",
    "y = -b_x \\pm \\sqrt{d_x} \\\\\n",
    "$$"
   ]
  },
  {
   "cell_type": "markdown",
   "id": "14f267b0",
   "metadata": {},
   "source": [
    "$$\n",
    "x^2 + x(By + D) + Cy^2 + Ey + F = 0 \\\\\n",
    "b_y = \\frac{By+D}{2} \\\\\n",
    "c_y = Cy^2 + Ey + F \\\\\n",
    "x = -b_y \\pm \\sqrt{b_y^2 - c_y} \\\\\n",
    "$$"
   ]
  },
  {
   "cell_type": "markdown",
   "id": "bfffefb8",
   "metadata": {},
   "source": [
    "$y = \\infty$:\n",
    "$$\n",
    "y = \\frac{2x+D}{B} = -\\frac{Bx+E}{2C} \\pm \\sqrt{b_x^2 - c_x} \\\\\n",
    "x\\left(\\frac{2}{B}+\\frac{B}{2C}\\right) + \\frac{D}{B} + \\frac{E}{2C} = \\pm \\sqrt{b_x^2 - c_x} \\\\\n",
    "$$"
   ]
  },
  {
   "cell_type": "markdown",
   "id": "e3b79a19",
   "metadata": {},
   "source": [
    "## Unaligned ellipse $y'$\n",
    "$$\n",
    "Ax^2 + Bxy + Cy^2 + Dx + Ey + F = 0 \\\\\n",
    "2Ax + By + Bxy' + 2Cyy' + D + Ey' = 0 \\\\\n",
    "y'(Bx + 2Cy + E) = -(2Ax + By + D) \\\\\n",
    "y' = -\\frac{2Ax + By + D}{Bx + 2Cy + E} \\\\\n",
    "$$"
   ]
  }
 ],
 "metadata": {
  "kernelspec": {
   "display_name": "Python 3 (ipykernel)",
   "language": "python",
   "name": "python3"
  },
  "language_info": {
   "codemirror_mode": {
    "name": "ipython",
    "version": 3
   },
   "file_extension": ".py",
   "mimetype": "text/x-python",
   "name": "python",
   "nbconvert_exporter": "python",
   "pygments_lexer": "ipython3",
   "version": "3.9.13"
  }
 },
 "nbformat": 4,
 "nbformat_minor": 5
}
