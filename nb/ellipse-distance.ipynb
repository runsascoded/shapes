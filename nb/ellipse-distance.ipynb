{
 "cells": [
  {
   "cell_type": "markdown",
   "id": "f61f02f9",
   "metadata": {},
   "source": [
    "## Distance between unit circle, aligned ellipse (WIP)\n",
    "$$\n",
    "cos^2\\theta + sin^2\\theta = 1 \\\\\n",
    "x^2 + Cy^2 + Dx + Ey + F = 0 \\\\\n",
    "r^2 + (C-1)y^2 + Dx + Ey + F = 0 \\\\\n",
    "R = r^2 = 1 \\\\\n",
    "c = \\cos\\theta \\\\\n",
    "s = \\sin\\theta \\\\\n",
    "r^2\\left(1 + (C-1)s^2\\right) + (Dc + Es)r + F = 0 \\\\\n",
    "a = 1 + (C-1)s^2 \\\\\n",
    "b = \\frac{Dc+Es}{2a} \\\\\n",
    "r = -b \\pm \\sqrt{b^2 - \\frac{F}{a}} \\\\\n",
    "2rr'\\left(1 + (C-1)s^2\\right) + 2r^2(C-1)cs + r'(Dc + Es) + r(Ec - Ds) = 0 \\\\\n",
    "r'\\left(2r\\left(1 + (C-1)s^2\\right) + Dc + Es \\right) = r(Ds - Ec) + 2r^2(1-C)cs = r\\left(Ds - Ec + 2r(1-C)cs\\right) \\\\\n",
    "r' = r\\frac{Ds - Ec + 2r(1-C)cs}{2r\\left(1 + (C-1)s^2\\right) + Dc + Es} \\\\\n",
    "$$"
   ]
  },
  {
   "cell_type": "markdown",
   "id": "a3aa48f6",
   "metadata": {},
   "source": [
    "$$\n",
    "r' = 0 \\implies Ds - Ec + 2r(1-C)cs = 0 \\\\\n",
    "2r(1-C)cs = Ec - Ds \\\\\n",
    "4r^2(1-C)^2c^2s^2 = E^2c^2 + D^2s^2 - 2DEcs \\\\\n",
    "$$"
   ]
  },
  {
   "cell_type": "markdown",
   "id": "ef3375c4",
   "metadata": {},
   "source": [
    "$$\n",
    "\\sqrt{b^2-\\frac{F}{a}} = \\frac{Ec-Ds}{2(1-C)cs} + \\frac{Dc+Es}{2\\left(1+(C-1)s^2\\right)} \\\\\n",
    "$$"
   ]
  },
  {
   "cell_type": "markdown",
   "id": "44a97516",
   "metadata": {},
   "source": [
    "$$\n",
    "(Dc+Es)^2 - 4aF = \\left(Dc + Es + a\\frac{Ec-Ds}{(1-C)cs}\\right)^2\n",
    "$$"
   ]
  },
  {
   "cell_type": "markdown",
   "id": "c90b2868",
   "metadata": {},
   "source": [
    "$$\n",
    "% R\\left(1 + (C-1)s^2\\right) + (Dc + Es)\\sqrt{R} + F = 0 \\\\\n",
    "% dR\\left(1 + (C-1)s^2\\right) + 2R(C-1)csd\\theta + \\frac{dR}{\\sqrt{R}}(Dc+Es) + d\\theta(Ec-Ds)\\sqrt{R} = 0 \\\\\n",
    "% dR\\left(1 + (C-1)s^2 + \\frac{1}{\\sqrt{R}}(Dc+Es)\\right) = d\\theta\\left(2R(1-C)cs + (Ds-Ec)\\sqrt{R}\\right) \\\\\n",
    "% \\frac{dR}{d\\theta} = \\frac{2R(1-C)cs + (Ds-Ec)\\sqrt{R}}{1 + (C-1)s^2 + \\frac{1}{\\sqrt{R}}(Dc+Es)} \\\\\n",
    "$$"
   ]
  },
  {
   "cell_type": "markdown",
   "id": "0227b554",
   "metadata": {},
   "source": [
    "### $y'$-based attempt\n",
    "Minimum distance to a unit circle implies $y' = -\\frac{x}{y}$ (slope is perpendicular to direction to origin)\n",
    "$$\n",
    "2x + 2Cyy' + D + Ey' = 0 \\\\\n",
    "y'(2Cy+E) = -2x-D \\\\\n",
    "y' = -\\frac{2x+D}{2Cy+E} = -\\frac{x}{y} \\\\\n",
    "y(2x+D) = x(2Cy+E) \\\\\n",
    "2xy + Dy = 2Cxy + Ex \\\\\n",
    "2xy(C-1) + Ex = Dy \\\\\n",
    "x(2y(C-1) + E) = Dy \\\\\n",
    "x = \\frac{Dy}{2y(C-1)+E} \\\\\n",
    "$$"
   ]
  },
  {
   "cell_type": "markdown",
   "id": "f93f7f72",
   "metadata": {},
   "source": [
    "$$\n",
    "d = 2y(C-1) + E \\\\\n",
    "D^2y^2 + D^2yd = (-Cy^2-Ey-F)d^2 \\\\\n",
    "$$"
   ]
  },
  {
   "cell_type": "markdown",
   "id": "32416012",
   "metadata": {},
   "source": [
    "$$\n",
    "D^2y^2 + D^2Ey + 2D^2y^2(C-1) = -(4(C-1)^2y^2 + 4E(C-1)y + E^2)(Cy^2 + Ey + F) \\\\\n",
    "y^2D^2(1 + 2(C-1)) + D^2Ey = -4(C-1)^2y^4 - 4E((C-1)^2 + C(C-1))y^3 - (4F(C-1)^2 + 4E^2(C-1) + CE^2)y^2 - (E^3 + 4EF(C-1))y - E^2F = 0 \\\\\n",
    "$$"
   ]
  },
  {
   "cell_type": "markdown",
   "id": "94ad3bfe",
   "metadata": {},
   "source": [
    "$$\n",
    "4(C-1)^2y^4 + 4E(2C-1)(C-1)y^3 + \\left(4F(C-1)^2 + 4E^2(C-1) + CE^2 + D^2 + 2D^2(C-1)\\right)y^2 + \\left(E^3 + 4EF(C-1) + D^2E\\right)y + E^2F = 0 \\\\\n",
    "\\begin{eqnarray}\n",
    "a_4 &=& 4(C-1)^2 \\\\\n",
    "a_3 &=& 4E(2C-1)(C-1) \\\\\n",
    "a_2 &=& 4F(C-1)^2 + 4E^2(C-1) + CE^2 + D^2 + 2D^2(C-1) \\\\\n",
    "a_1 &=& E^3 + 4EF(C-1) + D^2E \\\\\n",
    "a_0 &=& E^2F \\\\\n",
    "\\end{eqnarray}\n",
    "$$"
   ]
  },
  {
   "cell_type": "markdown",
   "id": "074d3a27",
   "metadata": {},
   "source": [
    "---"
   ]
  },
  {
   "cell_type": "markdown",
   "id": "adc655b0",
   "metadata": {},
   "source": [
    "$$\n",
    "\\begin{eqnarray}\n",
    "x_0 &=& \\cos{\\theta_0} \\\\\n",
    "y_0 &=& \\sin{\\theta_0} \\\\\n",
    "\\tan{\\theta_0} &=& \\frac{y_0}{x_0} \\\\\n",
    "\\tan{\\theta_1} &=& \\frac{r_x}{r_y}\\frac{y_1 - c_y}{x_1 - c_x} \\\\\n",
    "d^2 &=& (x_1-x_0)^2 + (y_1-y_0)^2 = \\\\\n",
    "&=& x_0^2 - 2x_0x_1 + x_1^2 + y_0^2 - 2y_0y_1 + y_1^2 \\\\\n",
    "&=& 1 + x_1^2 + y_1^2 - 2x_0x_1 - 2y_0y_1 \\\\\n",
    "y_0' &=& -\\frac{x_0}{y_0} = -\\frac{1}{\\tan{\\theta_0}} \\\\\n",
    "y_1' &=& -\\frac{r_y^2}{r_x^2}\\frac{x_1 - c_x}{y_1 - c_y} = -\\frac{r_y}{r_x}\\frac{1}{\\tan{\\theta_1}} \\\\\n",
    "y_0' &=& y_1' = -\\frac{x_1 - x_0}{y_1 - y_0} \\\\\n",
    "\\end{eqnarray}\n",
    "$$"
   ]
  },
  {
   "cell_type": "markdown",
   "id": "7890e680",
   "metadata": {},
   "source": [
    "$$\n",
    "\\frac{dd}{dx_1} = x_1 + y_1y_1' - x_0 - y_0y_1' = 0 \\\\\n",
    "\\frac{dd}{dx_0} = -x_1 - y_1y_0' = 0 \\\\\n",
    "$$"
   ]
  },
  {
   "cell_type": "markdown",
   "id": "407cf6dc",
   "metadata": {},
   "source": [
    "$$\n",
    "x_1y_0 = x_0y_1 \\\\\n",
    "y_1'(y_1 - y_0) = x_0 - x_1 \\\\\n",
    "r_y^2(y_1 - y_0)(x_1 - c_x) = r_x^2(x_1 - x_0)(y_1 - c_y) \\\\\n",
    "$$"
   ]
  },
  {
   "cell_type": "markdown",
   "id": "fc9d1778",
   "metadata": {},
   "source": [
    "$$\n",
    "r_y^2(y_1(x_1 - c_x) + y_0c_x - y_0x_1) = r_x^2(x_1(y_1 - c_y) + x_0c_y - x_0y_1) \\\\\n",
    "$$"
   ]
  },
  {
   "cell_type": "markdown",
   "id": "0e3cc2f5",
   "metadata": {},
   "source": [
    "$$\n",
    "r_x^2x_0y_1 - r_y^2y_0x_1 = r_x^2(x_1(y_1 - c_y) + x_0c_y) - r_y^2(y_1(x_1 - c_x) + y_0c_x) \\\\\n",
    "$$"
   ]
  },
  {
   "cell_type": "code",
   "execution_count": null,
   "id": "c81ba9c9",
   "metadata": {},
   "outputs": [],
   "source": []
  }
 ],
 "metadata": {
  "kernelspec": {
   "display_name": "Python 3 (ipykernel)",
   "language": "python",
   "name": "python3"
  },
  "language_info": {
   "codemirror_mode": {
    "name": "ipython",
    "version": 3
   },
   "file_extension": ".py",
   "mimetype": "text/x-python",
   "name": "python",
   "nbconvert_exporter": "python",
   "pygments_lexer": "ipython3",
   "version": "3.9.13"
  }
 },
 "nbformat": 4,
 "nbformat_minor": 5
}
