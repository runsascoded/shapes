{
 "cells": [
  {
   "cell_type": "markdown",
   "id": "441a11df",
   "metadata": {},
   "source": [
    "## Quartic equation solving\n",
    "([wiki](https://en.wikipedia.org/wiki/Quartic_equation))\n",
    "\n",
    "Given:\n",
    "\n",
    "$$\n",
    "ax^4 + bx^3 + cx^2 + dx + e = 0\n",
    "$$\n",
    "\n",
    "Scale by $a$ ($x^4$ coefficient becomes $1$):\n",
    "\n",
    "$$\n",
    "b_1 = \\frac{b}{a} \\\\\n",
    "c_1 = \\frac{c}{a} \\\\\n",
    "d_1 = \\frac{d}{a} \\\\\n",
    "e_1 = \\frac{e}{a} \\\\\n",
    "x^4 + b_1x^3 + c_1x^2 + d_1x + e_1 = 0 \\\\\n",
    "$$\n",
    "\n",
    "Shift by $\\frac{b_1}{4}$ to eliminate $b$ ($x^3$) coefficient:\n",
    "\n",
    "$$\n",
    "x = x_1 - \\frac{b_1}{4} \\\\\n",
    "\\left(x_1 - \\frac{b_1}{4}\\right)^4 + b_1\\left(x_1 - \\frac{b_1}{4}\\right)^3 + c_1\\left(x_1 - \\frac{b_1}{4}\\right)^2 + d_1\\left(x_1 - \\frac{b_1}{4}\\right) + e_1 = 0 \\\\\n",
    "x_1^4 + \\left(-\\frac{3}{8}b_1^2 + c_1\\right)x^2 + \\left(\\frac{1}{8}b_1^3 - \\frac{1}{2}b_1c_1 + d_1\\right)x - \\frac{3b_1^4}{256} + \\frac{b_1^2c_1}{16} - \\frac{b_1d_1}{4} + e_1 = 0 \\\\\n",
    "$$"
   ]
  },
  {
   "cell_type": "markdown",
   "id": "8908ec06",
   "metadata": {},
   "source": [
    "Substitute new coefficients into \"[depressed quartic](https://en.wikipedia.org/wiki/Quartic_equation#Converting_to_a_depressed_quartic)\" (with $x_1^3$ coefficient $0$)\n",
    "\n",
    "$$\n",
    "c_2 = -\\frac{3}{8}b_1^2 + c_1 \\\\\n",
    "d_2 = \\frac{1}{8}b_1^3 - \\frac{1}{2}b_1c_1 + d_1 \\\\\n",
    "e_2 = -\\frac{3b_1^4}{256} + \\frac{b_1^2c_1}{16} - \\frac{b_1d_1}{4} + e_1 \\\\\n",
    "x_1^4 + c_2x_1^2 + d_2x_1 + e_2 = 0 \\\\\n",
    "$$"
   ]
  },
  {
   "cell_type": "markdown",
   "id": "2256e134",
   "metadata": {},
   "source": [
    "Moving the $x_1$ term to the other side:\n",
    "$$\n",
    "x_1^4 + c_2x_1^2 + e_2 = -d_2x_1 \\\\\n",
    "$$\n",
    "\n",
    "we will add some multiple of $x_1^2$, as well as a constant, to both sides:\n",
    "\n",
    "$$\n",
    "x_1^4 + (c_2 + u)x_1^2 + e_2 + v = ux_1^2 - d_2x_1 + v\n",
    "$$\n",
    "\n",
    "and try to find values of $u$ and $v$ that make both sides perfect squares. For the left side, that means:\n",
    "\n",
    "$$\n",
    "(c_2 + u)^2 = 4(e_2 + v) = 4e_2 + 4v \\\\\n",
    "v = \\frac{1}{4}(c_2 + u)^2 - e_2 \\\\\n",
    "$$\n",
    "\n",
    "Combining with the right side and solving:\n",
    "$$\n",
    "d_2^2 = 4uv = u\\left((c_2 + u)^2 - 4e_2\\right) = u^3 + 2c_2u^2 + u(c_2^2 - 4e_2) \\\\\n",
    "u^3 + 2c_2u^2 + (c_2^2 - 4e_2)u - d_2^2 = 0 \\\\\n",
    "$$"
   ]
  },
  {
   "cell_type": "markdown",
   "id": "390f3c6c",
   "metadata": {},
   "source": [
    "Now we can use [the cubic equation](./cubics) to solve for $u$, and substitute for $v$ in the \"two perfect square polynomials\" equation:\n",
    "\n",
    "$$\n",
    "\\left(x_1^2 + \\frac{c_2 + u}{2}\\right)^2 = u\\left(x_1 - \\frac{d_2}{2u}\\right)^2 \\\\\n",
    "$$"
   ]
  },
  {
   "cell_type": "markdown",
   "id": "83c9697b",
   "metadata": {},
   "source": [
    "Yielding two quadratic equations:\n",
    "\n",
    "$$\n",
    "x_1^2 + \\frac{c_2 + u}{2} = \\sqrt{u}\\left(x_1 - \\frac{d_2}{2u}\\right) \\\\\n",
    "x_1^2 - x_1\\sqrt{u} + \\frac{c_2 + u}{2} + \\frac{d_2}{2\\sqrt{u}} = 0 \\\\\n",
    "x_1 = \\frac{\\sqrt{u}}{2} \\pm \\sqrt{\\frac{u}{4} - \\frac{c_2 + u}{2} - \\frac{d_2}{2\\sqrt{u}}} \\\\\n",
    "= \\frac{\\sqrt{u}}{2} \\pm \\frac{1}{2}\\sqrt{-u - 2c_2 - \\frac{2d_2}{\\sqrt{u}}} \\\\\n",
    "$$\n",
    "and\n",
    "$$\n",
    "x_1^2 + \\frac{c_2 + u}{2} = -\\sqrt{u}\\left(x_1 - \\frac{d_2}{2u}\\right) \\\\\n",
    "x_1^2 + x_1\\sqrt{u} + \\frac{c_2 + u}{2} - \\frac{d_2}{2\\sqrt{u}} = 0 \\\\\n",
    "x_1 = -\\frac{\\sqrt{u}}{2} \\pm \\sqrt{\\frac{u}{4} - \\frac{c_2 + u}{2} + \\frac{d_2}{2\\sqrt{u}}} \\\\\n",
    "= -\\frac{\\sqrt{u}}{2} \\pm \\frac{1}{2}\\sqrt{-u - 2c_2 + \\frac{2d_2}{\\sqrt{u}}} \\\\\n",
    "$$"
   ]
  },
  {
   "cell_type": "markdown",
   "id": "276bbe8c",
   "metadata": {},
   "source": [
    "and those are the 4 roots (of the depressed quartic). Substituting $x = x_1 - \\frac{b_1}{4}$ gives the roots of the original quartic."
   ]
  },
  {
   "cell_type": "markdown",
   "id": "e0b6b7fe",
   "metadata": {},
   "source": [
    "#### Debugging\n",
    "$$\n",
    "x^4 + cx^2 + \\epsilon{x} + \\epsilon = 0 \\\\\n",
    "x^4 + (c + u)x^2 + v + \\epsilon = ux^2 - \\epsilon{x} + v \\\\\n",
    "(c+u)^2 = 4v + 4\\epsilon \\\\\n",
    "4v = (c+u)^2 - 4\\epsilon \\\\\n",
    "\\epsilon^2 = 4uv = u\\left((c+u)^2 - 4\\epsilon\\right) = u^3 + 2cu^2 + u(c^2 - 4\\epsilon) \\\\\n",
    "u^3 + 2cu^2 + u(c^2 - 4\\epsilon) - \\epsilon^2 = 0 \\\\\n",
    "u^3 + 2cu^2 + uc^2 = 0 \\\\\n",
    "u = 0, -c \\\\\n",
    "v = \\frac{1}{4}(c+u)^2 - \\epsilon = \\frac{c^2}{4} - \\epsilon, - \\epsilon \\\\\n",
    "$$\n",
    "\n",
    "If $u = 0, v = \\frac{c^2}{4} - \\epsilon$:\n",
    "\n",
    "$$\n",
    "x^4 + cx^2 + \\frac{c^2}{4} = -\\epsilon(x + 1) + \\frac{c^2}{4} \\\\\n",
    "$$"
   ]
  },
  {
   "cell_type": "code",
   "execution_count": null,
   "id": "2a67daf6",
   "metadata": {},
   "outputs": [],
   "source": []
  }
 ],
 "metadata": {
  "kernelspec": {
   "display_name": "Python 3 (ipykernel)",
   "language": "python",
   "name": "python3"
  },
  "language_info": {
   "codemirror_mode": {
    "name": "ipython",
    "version": 3
   },
   "file_extension": ".py",
   "mimetype": "text/x-python",
   "name": "python",
   "nbconvert_exporter": "python",
   "pygments_lexer": "ipython3",
   "version": "3.9.13"
  }
 },
 "nbformat": 4,
 "nbformat_minor": 5
}
